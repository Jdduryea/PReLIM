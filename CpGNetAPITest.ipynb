{
 "cells": [
  {
   "cell_type": "code",
   "execution_count": null,
   "metadata": {
    "collapsed": true
   },
   "outputs": [],
   "source": [
    "# Test run of the CpG Net API.\n",
    "# Author: Jack Duryea"
   ]
  },
  {
   "cell_type": "code",
   "execution_count": 147,
   "metadata": {},
   "outputs": [
    {
     "name": "stdout",
     "output_type": "stream",
     "text": [
      "The autoreload extension is already loaded. To reload it, use:\n",
      "  %reload_ext autoreload\n"
     ]
    }
   ],
   "source": [
    "from CpG_Net import CpGNet\n",
    "import numpy as np\n",
    "import time\n",
    "from tqdm import tqdm\n",
    "import matplotlib.pyplot as plt\n",
    "%matplotlib inline\n",
    "# Automatic reloading so we don't have to restart the kernel each time we make a change\n",
    "# to CpGNet when we are debuggin\n",
    "%load_ext autoreload\n",
    "%autoreload 2"
   ]
  },
  {
   "cell_type": "markdown",
   "metadata": {},
   "source": [
    "### Step 1: Collect some data"
   ]
  },
  {
   "cell_type": "code",
   "execution_count": 10,
   "metadata": {
    "collapsed": true
   },
   "outputs": [],
   "source": [
    "\n",
    "# Some bins with 2 cpgs\n",
    "bin1 = np.array([[1,0],[0,-1],[-1,1],[0,0]],dtype=float)\n",
    "bin2 = np.array([[1,0],[1,0],[-1,1],[0,0],[0,1],[1,1],[0,0]],dtype=float)\n",
    "bin3 = np.array([[-1,1],[0,-1],[-1,1],[0,0]],dtype=float)\n",
    "bin4 = np.array([[1,-1],[0,1],[-1,1],[1,0]],dtype=float)\n",
    "bin5 = np.array([[1,1],[0,0],[0,1],[1,1]],dtype=float)\n",
    "bin6 = np.array([[1,1],[1,1],[0,1],[1,0]],dtype=float)\n",
    "bin7 = np.array([[0,0],[1,0],[0,1],[1,1]],dtype=float)\n",
    "\n",
    "# Collection of bins\n",
    "bins = [bin1,bin2,bin3,bin4, bin5, bin6, bin7]"
   ]
  },
  {
   "cell_type": "markdown",
   "metadata": {},
   "source": [
    "### Step 2: Create a model and train on the data. CpGNet will take care of  feature extraction and all that other boring stuff, it just works!"
   ]
  },
  {
   "cell_type": "code",
   "execution_count": 11,
   "metadata": {},
   "outputs": [
    {
     "name": "stderr",
     "output_type": "stream",
     "text": [
      "100%|██████████| 7/7 [00:00<00:00, 12726.54it/s]\n",
      "100%|██████████| 3/3 [00:00<00:00, 340.18it/s]\n"
     ]
    },
    {
     "name": "stdout",
     "output_type": "stream",
     "text": [
      "encoded vector: [ 0.  0.  1.  1.  0.  0.  0.  1.  1.]\n",
      "encoded vector normalized [[ 0.    0.    0.25  0.25  0.    0.    0.    0.25  0.25]]\n",
      "encoded vector: [ 0.  0.  1.  0.  0.  0.  1.  1.  1.]\n",
      "encoded vector normalized [[ 0.    0.    0.25  0.    0.    0.    0.25  0.25  0.25]]\n",
      "encoded vector: [ 0.  0.  1.  1.  0.  0.  0.  0.  2.]\n",
      "encoded vector normalized [[ 0.    0.    0.25  0.25  0.    0.    0.    0.    0.5 ]]\n",
      "_________________________________________________________________\n",
      "Layer (type)                 Output Shape              Param #   \n",
      "=================================================================\n",
      "dense_11 (Dense)             (None, 1000)              16000     \n",
      "_________________________________________________________________\n",
      "leaky_re_lu_9 (LeakyReLU)    (None, 1000)              0         \n",
      "_________________________________________________________________\n",
      "dense_12 (Dense)             (None, 800)               800800    \n",
      "_________________________________________________________________\n",
      "leaky_re_lu_10 (LeakyReLU)   (None, 800)               0         \n",
      "_________________________________________________________________\n",
      "dropout_5 (Dropout)          (None, 800)               0         \n",
      "_________________________________________________________________\n",
      "dense_13 (Dense)             (None, 500)               400500    \n",
      "_________________________________________________________________\n",
      "leaky_re_lu_11 (LeakyReLU)   (None, 500)               0         \n",
      "_________________________________________________________________\n",
      "dropout_6 (Dropout)          (None, 500)               0         \n",
      "_________________________________________________________________\n",
      "dense_14 (Dense)             (None, 100)               50100     \n",
      "_________________________________________________________________\n",
      "leaky_re_lu_12 (LeakyReLU)   (None, 100)               0         \n",
      "_________________________________________________________________\n",
      "dense_15 (Dense)             (None, 1)                 101       \n",
      "=================================================================\n",
      "Total params: 1,267,501\n",
      "Trainable params: 1,267,501\n",
      "Non-trainable params: 0\n",
      "_________________________________________________________________\n",
      "None\n",
      "Train on 4 samples, validate on 2 samples\n",
      "Epoch 1/10\n",
      "Epoch 00000: val_loss improved from -inf to 0.72779, saving model to CpGNetWeights.h5\n",
      "4/4 [==============================] - 0s - loss: 0.7293 - acc: 0.2500 - val_loss: 0.7278 - val_acc: 0.0000e+00\n",
      "Epoch 2/10\n",
      "Epoch 00001: val_loss did not improve\n",
      "4/4 [==============================] - 0s - loss: 0.6961 - acc: 0.7500 - val_loss: 0.7264 - val_acc: 0.0000e+00\n",
      "Epoch 3/10\n",
      "Epoch 00002: val_loss did not improve\n",
      "4/4 [==============================] - 0s - loss: 0.7214 - acc: 0.5000 - val_loss: 0.7251 - val_acc: 0.0000e+00\n",
      "Epoch 4/10\n",
      "Epoch 00003: val_loss did not improve\n",
      "4/4 [==============================] - 0s - loss: 0.7017 - acc: 0.5000 - val_loss: 0.7238 - val_acc: 0.0000e+00\n",
      "Epoch 5/10\n",
      "Epoch 00004: val_loss did not improve\n",
      "4/4 [==============================] - 0s - loss: 0.6784 - acc: 0.5000 - val_loss: 0.7225 - val_acc: 0.0000e+00\n",
      "Epoch 6/10\n",
      "Epoch 00005: val_loss did not improve\n",
      "4/4 [==============================] - 0s - loss: 0.6946 - acc: 0.5000 - val_loss: 0.7214 - val_acc: 0.0000e+00\n",
      "Epoch 7/10\n",
      "Epoch 00006: val_loss did not improve\n",
      "4/4 [==============================] - 0s - loss: 0.7310 - acc: 0.2500 - val_loss: 0.7202 - val_acc: 0.0000e+00\n",
      "Epoch 8/10\n",
      "Epoch 00007: val_loss did not improve\n",
      "4/4 [==============================] - 0s - loss: 0.7224 - acc: 0.2500 - val_loss: 0.7190 - val_acc: 0.0000e+00\n",
      "Epoch 9/10\n",
      "Epoch 00008: val_loss did not improve\n",
      "4/4 [==============================] - 0s - loss: 0.7031 - acc: 0.5000 - val_loss: 0.7179 - val_acc: 0.0000e+00\n",
      "Epoch 10/10\n",
      "Epoch 00009: val_loss did not improve\n",
      "4/4 [==============================] - 0s - loss: 0.6984 - acc: 0.2500 - val_loss: 0.7168 - val_acc: 0.0000e+00\n"
     ]
    }
   ],
   "source": [
    "net = CpGNet(cpgDensity=2)\n",
    "net.train(bins)"
   ]
  },
  {
   "cell_type": "markdown",
   "metadata": {},
   "source": [
    "### Step 3: Impute!"
   ]
  },
  {
   "cell_type": "code",
   "execution_count": 12,
   "metadata": {},
   "outputs": [
    {
     "name": "stdout",
     "output_type": "stream",
     "text": [
      "encoded vector: [ 0.  0.  1.  1.  1.  0.  0.  1.  0.]\n",
      "encoded vector normalized [[ 0.    0.    0.25  0.25  0.25  0.    0.    0.25  0.  ]]\n"
     ]
    },
    {
     "data": {
      "text/plain": [
       "array([[ 1.        ,  0.        ],\n",
       "       [ 0.        ,  0.51451188],\n",
       "       [ 0.50505114,  1.        ],\n",
       "       [ 0.        ,  0.        ]])"
      ]
     },
     "execution_count": 12,
     "metadata": {},
     "output_type": "execute_result"
    }
   ],
   "source": [
    "net.impute(bin1)"
   ]
  },
  {
   "cell_type": "code",
   "execution_count": 54,
   "metadata": {},
   "outputs": [
    {
     "data": {
      "text/plain": [
       "array([[ 0.50446618,  1.        ],\n",
       "       [ 0.        ,  0.5174641 ],\n",
       "       [ 0.50906342,  1.        ],\n",
       "       [ 0.        ,  0.        ]])"
      ]
     },
     "execution_count": 54,
     "metadata": {},
     "output_type": "execute_result"
    }
   ],
   "source": [
    "net.impute(bin3)"
   ]
  },
  {
   "cell_type": "code",
   "execution_count": 13,
   "metadata": {
    "collapsed": true
   },
   "outputs": [],
   "source": [
    "binA = np.array([[0,0],[0,0],[0,-1],[0,0],[0,0]],dtype=float)"
   ]
  },
  {
   "cell_type": "code",
   "execution_count": 14,
   "metadata": {
    "collapsed": true
   },
   "outputs": [],
   "source": [
    "binB = np.array([[1,1],[1,1],[1,-1],[1,1],[1,1]],dtype=float)"
   ]
  },
  {
   "cell_type": "code",
   "execution_count": 15,
   "metadata": {},
   "outputs": [
    {
     "name": "stdout",
     "output_type": "stream",
     "text": [
      "encoded vector: [ 0.  0.  0.  0.  0.  0.  1.  0.  4.]\n",
      "encoded vector normalized [[ 0.   0.   0.   0.   0.   0.   0.2  0.   0.8]]\n"
     ]
    },
    {
     "data": {
      "text/plain": [
       "array([[ 1.        ,  1.        ],\n",
       "       [ 1.        ,  1.        ],\n",
       "       [ 1.        ,  0.51642925],\n",
       "       [ 1.        ,  1.        ],\n",
       "       [ 1.        ,  1.        ]])"
      ]
     },
     "execution_count": 15,
     "metadata": {},
     "output_type": "execute_result"
    }
   ],
   "source": [
    "net.impute(binB)"
   ]
  },
  {
   "cell_type": "code",
   "execution_count": 48,
   "metadata": {
    "scrolled": true
   },
   "outputs": [],
   "source": [
    "predicted_matrices = net.impute_many(bins)"
   ]
  },
  {
   "cell_type": "code",
   "execution_count": 53,
   "metadata": {},
   "outputs": [
    {
     "data": {
      "text/plain": [
       "array([[ 0.50446618,  1.        ],\n",
       "       [ 0.        ,  0.5174641 ],\n",
       "       [ 0.50906342,  1.        ],\n",
       "       [ 0.        ,  0.        ]])"
      ]
     },
     "execution_count": 53,
     "metadata": {},
     "output_type": "execute_result"
    }
   ],
   "source": [
    "predicted_matrices[2]"
   ]
  },
  {
   "cell_type": "markdown",
   "metadata": {},
   "source": [
    "# Is batch imputation faster?"
   ]
  },
  {
   "cell_type": "code",
   "execution_count": 150,
   "metadata": {
    "collapsed": true
   },
   "outputs": [],
   "source": [
    "test_bins_100 = bins[:4] * 25\n",
    "test_bins_1000 = bins[:4] * 250"
   ]
  },
  {
   "cell_type": "code",
   "execution_count": 151,
   "metadata": {},
   "outputs": [
    {
     "data": {
      "text/plain": [
       "100"
      ]
     },
     "execution_count": 151,
     "metadata": {},
     "output_type": "execute_result"
    }
   ],
   "source": [
    "len(test_bins_100)"
   ]
  },
  {
   "cell_type": "code",
   "execution_count": 152,
   "metadata": {},
   "outputs": [
    {
     "name": "stderr",
     "output_type": "stream",
     "text": [
      "100%|██████████| 20/20 [00:33<00:00,  1.89s/it]\n"
     ]
    }
   ],
   "source": [
    "\n",
    "individual_data = []\n",
    "\n",
    "for i in tqdm(range(20)):\n",
    "    start = time.time()\n",
    "\n",
    "    for bin_ in test_bins_1000:\n",
    "        net.impute(bin_)\n",
    "        \n",
    "    end = time.time()\n",
    "    duration = end-start\n",
    "    individual_data.append(duration)\n",
    "\n"
   ]
  },
  {
   "cell_type": "code",
   "execution_count": 154,
   "metadata": {},
   "outputs": [
    {
     "name": "stderr",
     "output_type": "stream",
     "text": [
      "100%|██████████| 20/20 [00:07<00:00,  2.61it/s]\n"
     ]
    }
   ],
   "source": [
    "\n",
    "batch_data = []\n",
    "for i in tqdm(range(20)):\n",
    "    start = time.time()\n",
    "\n",
    "    net.impute_many(test_bins_1000)\n",
    "        \n",
    "    end = time.time()\n",
    "    end = time.time()\n",
    "    duration = end-start\n",
    "    batch_data.append(duration)\n"
   ]
  },
  {
   "cell_type": "code",
   "execution_count": 161,
   "metadata": {},
   "outputs": [
    {
     "data": {
      "image/png": "[encoded data removed]",
      "text/plain": [
       "<matplotlib.figure.Figure at 0x12fcc0f50>"
      ]
     },
     "metadata": {},
     "output_type": "display_data"
    }
   ],
   "source": [
    "plt.boxplot([individual_data,batch_data]);\n",
    "plt.xticks([1,2],[\"Individual\",\"Batch\"])\n",
    "plt.ylim([0,2.5])\n",
    "plt.ylabel(\"Seconds\")\n",
    "plt.title(\"Imputation Speed Comparison on 1000 bins (20 trials)\")\n",
    "plt.savefig(\"batch_speed.png\",dpi=500)"
   ]
  },
  {
   "cell_type": "code",
   "execution_count": 158,
   "metadata": {},
   "outputs": [
    {
     "data": {
      "text/plain": [
       "1.6867809891700745"
      ]
     },
     "execution_count": 158,
     "metadata": {},
     "output_type": "execute_result"
    }
   ],
   "source": [
    "np.mean(individual_data)"
   ]
  },
  {
   "cell_type": "code",
   "execution_count": 159,
   "metadata": {},
   "outputs": [
    {
     "data": {
      "text/plain": [
       "0.39413212537765502"
      ]
     },
     "execution_count": 159,
     "metadata": {},
     "output_type": "execute_result"
    }
   ],
   "source": [
    "np.mean(batch_data)"
   ]
  },
  {
   "cell_type": "code",
   "execution_count": 160,
   "metadata": {},
   "outputs": [
    {
     "data": {
      "text/plain": [
       "4.2797348415935677"
      ]
     },
     "execution_count": 160,
     "metadata": {},
     "output_type": "execute_result"
    }
   ],
   "source": [
    "np.mean(individual_data)/np.mean(batch_data)"
   ]
  },
  {
   "cell_type": "code",
   "execution_count": null,
   "metadata": {
    "collapsed": true
   },
   "outputs": [],
   "source": []
  }
 ],
 "metadata": {
  "kernelspec": {
   "display_name": "Python 2",
   "language": "python",
   "name": "python2"
  },
  "language_info": {
   "codemirror_mode": {
    "name": "ipython",
    "version": 2
   },
   "file_extension": ".py",
   "mimetype": "text/x-python",
   "name": "python",
   "nbconvert_exporter": "python",
   "pygments_lexer": "ipython2",
   "version": "2.7.13"
  }
 },
 "nbformat": 4,
 "nbformat_minor": 2
}
