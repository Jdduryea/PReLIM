{
 "cells": [
  {
   "cell_type": "code",
   "execution_count": null,
   "metadata": {
    "collapsed": true
   },
   "outputs": [],
   "source": [
    "# Test run of the CpG Net API.\n",
    "# Author: Jack Duryea"
   ]
  },
  {
   "cell_type": "code",
   "execution_count": 16,
   "metadata": {},
   "outputs": [
    {
     "name": "stdout",
     "output_type": "stream",
     "text": [
      "The autoreload extension is already loaded. To reload it, use:\n",
      "  %reload_ext autoreload\n"
     ]
    }
   ],
   "source": [
    "from CpG_Net import CpGNet\n",
    "import numpy as np\n",
    "\n",
    "# Automatic reloading so we don't have to restart the kernel each time we make a change\n",
    "# to CpGNet when we are debuggin\n",
    "%load_ext autoreload\n",
    "%autoreload 2"
   ]
  },
  {
   "cell_type": "markdown",
   "metadata": {},
   "source": [
    "### Step 1: Collect some data"
   ]
  },
  {
   "cell_type": "code",
   "execution_count": 17,
   "metadata": {
    "collapsed": true
   },
   "outputs": [],
   "source": [
    "\n",
    "# Some bins with 2 cpgs\n",
    "bin1 = np.array([[1,0],[0,-1],[-1,1],[0,0]],dtype=float)\n",
    "bin2 = np.array([[1,0],[1,0],[-1,1],[0,0],[0,1],[1,1],[0,0]],dtype=float)\n",
    "bin3 = np.array([[-1,1],[0,-1],[-1,1],[0,0]],dtype=float)\n",
    "bin4 = np.array([[1,-1],[0,1],[-1,1],[1,0]],dtype=float)\n",
    "bin5 = np.array([[1,1],[0,0],[0,1],[1,1]],dtype=float)\n",
    "bin6 = np.array([[1,1],[1,1],[0,1],[1,0]],dtype=float)\n",
    "bin7 = np.array([[0,0],[1,0],[0,1],[1,1]],dtype=float)\n",
    "\n",
    "# Collection of bins\n",
    "bins = [bin1,bin2,bin3,bin4, bin5, bin6, bin7]"
   ]
  },
  {
   "cell_type": "markdown",
   "metadata": {},
   "source": [
    "### Step 2: Create a model and train on the data. CpGNet will take care of  feature extraction and all that other boring stuff, it just works!"
   ]
  },
  {
   "cell_type": "code",
   "execution_count": 18,
   "metadata": {},
   "outputs": [
    {
     "name": "stderr",
     "output_type": "stream",
     "text": [
      "100%|██████████| 7/7 [00:00<00:00, 34139.68it/s]\n",
      "100%|██████████| 3/3 [00:00<00:00, 326.91it/s]\n"
     ]
    },
    {
     "name": "stdout",
     "output_type": "stream",
     "text": [
      "encoded vector: [ 0.  0.  1.  0.  0.  0.  1.  1.  1.]\n",
      "encoded vector normalized [[ 0.    0.    0.25  0.    0.    0.    0.25  0.25  0.25]]\n",
      "encoded vector: [ 0.  1.  1.  0.  0.  0.  1.  0.  1.]\n",
      "encoded vector normalized [[ 0.    0.25  0.25  0.    0.    0.    0.25  0.    0.25]]\n",
      "encoded vector: [ 0.  0.  1.  0.  1.  0.  1.  0.  1.]\n",
      "encoded vector normalized [[ 0.    0.    0.25  0.    0.25  0.    0.25  0.    0.25]]\n",
      "_________________________________________________________________\n",
      "Layer (type)                 Output Shape              Param #   \n",
      "=================================================================\n",
      "dense_11 (Dense)             (None, 1000)              16000     \n",
      "_________________________________________________________________\n",
      "leaky_re_lu_9 (LeakyReLU)    (None, 1000)              0         \n",
      "_________________________________________________________________\n",
      "dropout_9 (Dropout)          (None, 1000)              0         \n",
      "_________________________________________________________________\n",
      "dense_12 (Dense)             (None, 800)               800800    \n",
      "_________________________________________________________________\n",
      "leaky_re_lu_10 (LeakyReLU)   (None, 800)               0         \n",
      "_________________________________________________________________\n",
      "dropout_10 (Dropout)         (None, 800)               0         \n",
      "_________________________________________________________________\n",
      "dense_13 (Dense)             (None, 500)               400500    \n",
      "_________________________________________________________________\n",
      "leaky_re_lu_11 (LeakyReLU)   (None, 500)               0         \n",
      "_________________________________________________________________\n",
      "dropout_11 (Dropout)         (None, 500)               0         \n",
      "_________________________________________________________________\n",
      "dense_14 (Dense)             (None, 100)               50100     \n",
      "_________________________________________________________________\n",
      "leaky_re_lu_12 (LeakyReLU)   (None, 100)               0         \n",
      "_________________________________________________________________\n",
      "dropout_12 (Dropout)         (None, 100)               0         \n",
      "_________________________________________________________________\n",
      "dense_15 (Dense)             (None, 1)                 101       \n",
      "=================================================================\n",
      "Total params: 1,267,501\n",
      "Trainable params: 1,267,501\n",
      "Non-trainable params: 0\n",
      "_________________________________________________________________\n",
      "None\n",
      "Train on 5 samples, validate on 2 samples\n",
      "Epoch 1/10\n",
      "Epoch 00000: val_acc improved from -inf to 0.00000, saving model to CpGNetWeights.h5\n",
      "5/5 [==============================] - 0s - loss: 0.6646 - acc: 0.6000 - val_loss: 0.7036 - val_acc: 0.0000e+00\n",
      "Epoch 2/10\n",
      "Epoch 00001: val_acc did not improve\n",
      "5/5 [==============================] - 0s - loss: 0.6877 - acc: 0.6000 - val_loss: 0.7033 - val_acc: 0.0000e+00\n",
      "Epoch 3/10\n",
      "Epoch 00002: val_acc did not improve\n",
      "5/5 [==============================] - 0s - loss: 0.6860 - acc: 0.6000 - val_loss: 0.7029 - val_acc: 0.0000e+00\n",
      "Epoch 4/10\n",
      "Epoch 00003: val_acc did not improve\n",
      "5/5 [==============================] - 0s - loss: 0.7196 - acc: 0.4000 - val_loss: 0.7026 - val_acc: 0.0000e+00\n",
      "Epoch 5/10\n",
      "Epoch 00004: val_acc did not improve\n",
      "5/5 [==============================] - 0s - loss: 0.6951 - acc: 0.4000 - val_loss: 0.7023 - val_acc: 0.0000e+00\n",
      "Epoch 6/10\n",
      "Epoch 00005: val_acc did not improve\n",
      "5/5 [==============================] - 0s - loss: 0.7385 - acc: 0.4000 - val_loss: 0.7020 - val_acc: 0.0000e+00\n",
      "Epoch 7/10\n",
      "Epoch 00006: val_acc did not improve\n",
      "5/5 [==============================] - 0s - loss: 0.6947 - acc: 0.4000 - val_loss: 0.7017 - val_acc: 0.0000e+00\n",
      "Epoch 8/10\n",
      "Epoch 00007: val_acc did not improve\n",
      "5/5 [==============================] - 0s - loss: 0.7452 - acc: 0.2000 - val_loss: 0.7013 - val_acc: 0.0000e+00\n",
      "Epoch 9/10\n",
      "Epoch 00008: val_acc did not improve\n",
      "5/5 [==============================] - 0s - loss: 0.6663 - acc: 0.8000 - val_loss: 0.7010 - val_acc: 0.0000e+00\n",
      "Epoch 10/10\n",
      "Epoch 00009: val_acc did not improve\n",
      "5/5 [==============================] - 0s - loss: 0.7186 - acc: 0.4000 - val_loss: 0.7007 - val_acc: 0.0000e+00\n"
     ]
    }
   ],
   "source": [
    "net = CpGNet(cpgDensity=2)\n",
    "net.train(bins)"
   ]
  },
  {
   "cell_type": "markdown",
   "metadata": {},
   "source": [
    "### Step 3: Impute!"
   ]
  },
  {
   "cell_type": "code",
   "execution_count": 11,
   "metadata": {},
   "outputs": [
    {
     "data": {
      "text/plain": [
       "array([[ 1.        ,  0.        ],\n",
       "       [ 0.        ,  0.48987553],\n",
       "       [ 0.49581507,  1.        ],\n",
       "       [ 0.        ,  0.        ]])"
      ]
     },
     "execution_count": 11,
     "metadata": {},
     "output_type": "execute_result"
    }
   ],
   "source": [
    "net.impute(bin1)"
   ]
  },
  {
   "cell_type": "code",
   "execution_count": 12,
   "metadata": {
    "collapsed": true
   },
   "outputs": [],
   "source": [
    "binA = np.array([[0,0],[0,0],[0,-1],[0,0],[0,0]],dtype=float)"
   ]
  },
  {
   "cell_type": "code",
   "execution_count": 13,
   "metadata": {
    "collapsed": true
   },
   "outputs": [],
   "source": [
    "binB = np.array([[1,1],[1,1],[1,-1],[1,1],[1,1]],dtype=float)"
   ]
  },
  {
   "cell_type": "code",
   "execution_count": 14,
   "metadata": {},
   "outputs": [
    {
     "data": {
      "text/plain": [
       "array([[ 1.        ,  1.        ],\n",
       "       [ 1.        ,  1.        ],\n",
       "       [ 1.        ,  0.49002632],\n",
       "       [ 1.        ,  1.        ],\n",
       "       [ 1.        ,  1.        ]])"
      ]
     },
     "execution_count": 14,
     "metadata": {},
     "output_type": "execute_result"
    }
   ],
   "source": [
    "net.impute(binB)"
   ]
  },
  {
   "cell_type": "markdown",
   "metadata": {},
   "source": [
    "### Step 4: Publish?"
   ]
  },
  {
   "cell_type": "code",
   "execution_count": null,
   "metadata": {
    "collapsed": true
   },
   "outputs": [],
   "source": []
  }
 ],
 "metadata": {
  "kernelspec": {
   "display_name": "Python 2",
   "language": "python",
   "name": "python2"
  },
  "language_info": {
   "codemirror_mode": {
    "name": "ipython",
    "version": 2
   },
   "file_extension": ".py",
   "mimetype": "text/x-python",
   "name": "python",
   "nbconvert_exporter": "python",
   "pygments_lexer": "ipython2",
   "version": "2.7.13"
  }
 },
 "nbformat": 4,
 "nbformat_minor": 2
}
