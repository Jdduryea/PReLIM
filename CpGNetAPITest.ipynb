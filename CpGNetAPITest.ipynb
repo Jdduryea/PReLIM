{
 "cells": [
  {
   "cell_type": "code",
   "execution_count": 1,
   "metadata": {
    "collapsed": true
   },
   "outputs": [],
   "source": [
    "# Test run of the CpG Net API.\n",
    "# Author: Jack Duryea"
   ]
  },
  {
   "cell_type": "code",
   "execution_count": 115,
   "metadata": {},
   "outputs": [
    {
     "name": "stdout",
     "output_type": "stream",
     "text": [
      "The autoreload extension is already loaded. To reload it, use:\n",
      "  %reload_ext autoreload\n"
     ]
    }
   ],
   "source": [
    "from CpG_Net import CpGNet\n",
    "import numpy as np\n",
    "\n",
    "# Automatic reloading so we don't have to restart the kernel each time we make a change\n",
    "# to CpGNet when we are debuggin\n",
    "%load_ext autoreload\n",
    "%autoreload 2"
   ]
  },
  {
   "cell_type": "markdown",
   "metadata": {},
   "source": [
    "### Step 1: Collect some data"
   ]
  },
  {
   "cell_type": "code",
   "execution_count": 92,
   "metadata": {
    "collapsed": true
   },
   "outputs": [],
   "source": [
    "\n",
    "# Some bins with 2 cpgs\n",
    "bin1 = np.array([[1,0],[0,-1],[-1,1],[0,0]],dtype=float)\n",
    "bin2 = np.array([[1,0],[1,0],[-1,1],[0,0],[0,1],[1,1],[0,0]],dtype=float)\n",
    "bin3 = np.array([[-1,1],[0,-1],[-1,1],[0,0]],dtype=float)\n",
    "bin4 = np.array([[1,-1],[0,1],[-1,1],[1,0]],dtype=float)\n",
    "bin5 = np.array([[1,1],[0,0],[0,1],[1,1]],dtype=float)\n",
    "bin6 = np.array([[1,1],[1,1],[0,1],[1,0]],dtype=float)\n",
    "bin7 = np.array([[0,0],[1,0],[0,1],[1,1]],dtype=float)\n",
    "\n",
    "# Collection of bins\n",
    "bins = [bin1,bin2,bin3,bin4, bin5, bin6, bin7]"
   ]
  },
  {
   "cell_type": "markdown",
   "metadata": {},
   "source": [
    "### Step 2: Create a model and train on the data. CpGNet will take care of  feature extraction and all that other boring stuff, it just works!"
   ]
  },
  {
   "cell_type": "code",
   "execution_count": 108,
   "metadata": {},
   "outputs": [
    {
     "name": "stderr",
     "output_type": "stream",
     "text": [
      "100%|██████████| 7/7 [00:00<00:00, 18712.64it/s]\n",
      "100%|██████████| 3/3 [00:00<00:00, 1827.05it/s]\n"
     ]
    },
    {
     "name": "stdout",
     "output_type": "stream",
     "text": [
      "_________________________________________________________________\n",
      "Layer (type)                 Output Shape              Param #   \n",
      "=================================================================\n",
      "dense_26 (Dense)             (None, 1000)              16000     \n",
      "_________________________________________________________________\n",
      "leaky_re_lu_21 (LeakyReLU)   (None, 1000)              0         \n",
      "_________________________________________________________________\n",
      "dropout_21 (Dropout)         (None, 1000)              0         \n",
      "_________________________________________________________________\n",
      "dense_27 (Dense)             (None, 800)               800800    \n",
      "_________________________________________________________________\n",
      "leaky_re_lu_22 (LeakyReLU)   (None, 800)               0         \n",
      "_________________________________________________________________\n",
      "dropout_22 (Dropout)         (None, 800)               0         \n",
      "_________________________________________________________________\n",
      "dense_28 (Dense)             (None, 500)               400500    \n",
      "_________________________________________________________________\n",
      "leaky_re_lu_23 (LeakyReLU)   (None, 500)               0         \n",
      "_________________________________________________________________\n",
      "dropout_23 (Dropout)         (None, 500)               0         \n",
      "_________________________________________________________________\n",
      "dense_29 (Dense)             (None, 100)               50100     \n",
      "_________________________________________________________________\n",
      "leaky_re_lu_24 (LeakyReLU)   (None, 100)               0         \n",
      "_________________________________________________________________\n",
      "dropout_24 (Dropout)         (None, 100)               0         \n",
      "_________________________________________________________________\n",
      "dense_30 (Dense)             (None, 1)                 101       \n",
      "=================================================================\n",
      "Total params: 1,267,501\n",
      "Trainable params: 1,267,501\n",
      "Non-trainable params: 0\n",
      "_________________________________________________________________\n",
      "None\n",
      "Train on 6 samples, validate on 2 samples\n",
      "Epoch 1/10\n",
      "Epoch 00000: val_acc improved from -inf to 0.00000, saving model to CpGNetWeights.h5\n",
      "6/6 [==============================] - 1s - loss: 0.6833 - acc: 0.5000 - val_loss: 0.7293 - val_acc: 0.0000e+00\n",
      "Epoch 2/10\n",
      "Epoch 00001: val_acc did not improve\n",
      "6/6 [==============================] - 0s - loss: 0.7733 - acc: 0.1667 - val_loss: 0.7289 - val_acc: 0.0000e+00\n",
      "Epoch 3/10\n",
      "Epoch 00002: val_acc did not improve\n",
      "6/6 [==============================] - 0s - loss: 0.7919 - acc: 0.0000e+00 - val_loss: 0.7284 - val_acc: 0.0000e+00\n",
      "Epoch 4/10\n",
      "Epoch 00003: val_acc did not improve\n",
      "6/6 [==============================] - 0s - loss: 0.7303 - acc: 0.3333 - val_loss: 0.7279 - val_acc: 0.0000e+00\n",
      "Epoch 5/10\n",
      "Epoch 00004: val_acc did not improve\n",
      "6/6 [==============================] - 0s - loss: 0.7119 - acc: 0.3333 - val_loss: 0.7273 - val_acc: 0.0000e+00\n",
      "Epoch 6/10\n",
      "Epoch 00005: val_acc did not improve\n",
      "6/6 [==============================] - 0s - loss: 0.7365 - acc: 0.3333 - val_loss: 0.7267 - val_acc: 0.0000e+00\n",
      "Epoch 7/10\n",
      "Epoch 00006: val_acc did not improve\n",
      "6/6 [==============================] - 0s - loss: 0.7163 - acc: 0.5000 - val_loss: 0.7261 - val_acc: 0.0000e+00\n",
      "Epoch 8/10\n",
      "Epoch 00007: val_acc did not improve\n",
      "6/6 [==============================] - 0s - loss: 0.6877 - acc: 0.5000 - val_loss: 0.7256 - val_acc: 0.0000e+00\n",
      "Epoch 9/10\n",
      "Epoch 00008: val_acc did not improve\n",
      "6/6 [==============================] - 0s - loss: 0.7210 - acc: 0.5000 - val_loss: 0.7250 - val_acc: 0.0000e+00\n",
      "Epoch 10/10\n",
      "Epoch 00009: val_acc did not improve\n",
      "6/6 [==============================] - 0s - loss: 0.7479 - acc: 0.3333 - val_loss: 0.7245 - val_acc: 0.0000e+00\n"
     ]
    }
   ],
   "source": [
    "net = CpGNet(cpgDensity=2)\n",
    "net.train(bins)"
   ]
  },
  {
   "cell_type": "markdown",
   "metadata": {},
   "source": [
    "### Step 3: Impute!"
   ]
  },
  {
   "cell_type": "code",
   "execution_count": 111,
   "metadata": {},
   "outputs": [
    {
     "data": {
      "text/plain": [
       "array([[ 1.        ,  0.        ],\n",
       "       [ 0.        ,  0.5033136 ],\n",
       "       [ 0.51883382,  1.        ],\n",
       "       [ 0.        ,  0.        ]])"
      ]
     },
     "execution_count": 111,
     "metadata": {},
     "output_type": "execute_result"
    }
   ],
   "source": [
    "net.impute(bin1)"
   ]
  },
  {
   "cell_type": "code",
   "execution_count": 103,
   "metadata": {
    "collapsed": true
   },
   "outputs": [],
   "source": [
    "binA = np.array([[0,0],[0,0],[0,-1],[0,0],[0,0]],dtype=float)"
   ]
  },
  {
   "cell_type": "code",
   "execution_count": 104,
   "metadata": {},
   "outputs": [
    {
     "data": {
      "text/plain": [
       "array([[ 0.        ,  0.        ],\n",
       "       [ 0.        ,  0.        ],\n",
       "       [ 0.        ,  0.48015812],\n",
       "       [ 0.        ,  0.        ],\n",
       "       [ 0.        ,  0.        ]])"
      ]
     },
     "execution_count": 104,
     "metadata": {},
     "output_type": "execute_result"
    }
   ],
   "source": [
    "net.impute(binx)"
   ]
  },
  {
   "cell_type": "code",
   "execution_count": 113,
   "metadata": {
    "collapsed": true
   },
   "outputs": [],
   "source": [
    "binB = np.array([[1,1],[1,1],[1,-1],[1,1],[1,1]],dtype=float)"
   ]
  },
  {
   "cell_type": "code",
   "execution_count": 114,
   "metadata": {},
   "outputs": [
    {
     "data": {
      "text/plain": [
       "array([[ 1.        ,  1.        ],\n",
       "       [ 1.        ,  1.        ],\n",
       "       [ 1.        ,  0.51314688],\n",
       "       [ 1.        ,  1.        ],\n",
       "       [ 1.        ,  1.        ]])"
      ]
     },
     "execution_count": 114,
     "metadata": {},
     "output_type": "execute_result"
    }
   ],
   "source": [
    "net.impute(binB)"
   ]
  },
  {
   "cell_type": "markdown",
   "metadata": {},
   "source": [
    "### Even with tiny data, CpG Net produces reasonable answers if we use a standard threshold of 0.5"
   ]
  },
  {
   "cell_type": "markdown",
   "metadata": {},
   "source": [
    "### Step 4: Publish?"
   ]
  },
  {
   "cell_type": "code",
   "execution_count": null,
   "metadata": {
    "collapsed": true
   },
   "outputs": [],
   "source": []
  }
 ],
 "metadata": {
  "kernelspec": {
   "display_name": "Python 2",
   "language": "python",
   "name": "python2"
  },
  "language_info": {
   "codemirror_mode": {
    "name": "ipython",
    "version": 2
   },
   "file_extension": ".py",
   "mimetype": "text/x-python",
   "name": "python",
   "nbconvert_exporter": "python",
   "pygments_lexer": "ipython2",
   "version": "2.7.13"
  }
 },
 "nbformat": 4,
 "nbformat_minor": 2
}
