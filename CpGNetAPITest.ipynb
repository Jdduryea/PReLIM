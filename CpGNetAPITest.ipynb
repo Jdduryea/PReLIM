{
 "cells": [
  {
   "cell_type": "code",
   "execution_count": 1,
   "metadata": {
    "collapsed": true
   },
   "outputs": [],
   "source": [
    "# Test run of the CpG Net API.\n",
    "# Author: Jack Duryea"
   ]
  },
  {
   "cell_type": "code",
   "execution_count": 47,
   "metadata": {},
   "outputs": [
    {
     "name": "stdout",
     "output_type": "stream",
     "text": [
      "The autoreload extension is already loaded. To reload it, use:\n",
      "  %reload_ext autoreload\n"
     ]
    }
   ],
   "source": [
    "from CpG_Net import CpGNet\n",
    "import numpy as np\n",
    "import matplotlib.pyplot as plt\n",
    "%matplotlib inline\n",
    "\n",
    "# Automatic reloading so we don't have to restart the kernel each time we make a change\n",
    "%load_ext autoreload\n",
    "%autoreload 2"
   ]
  },
  {
   "cell_type": "code",
   "execution_count": 62,
   "metadata": {
    "collapsed": true
   },
   "outputs": [],
   "source": [
    "# Some bins with 2 cpgs\n",
    "bin1 = np.array([[1,0],[0,-1],[-1,1],[0,0]])\n",
    "bin2 = np.array([[1,0],[1,0],[-1,1],[0,0],[0,1],[1,1],[0,0]])\n",
    "bin3 = np.array([[-1,1],[0,-1],[-1,1],[0,0]])\n",
    "bin4 = np.array([[1,-1],[0,1],[-1,1],[1,0]])\n",
    "bin5 = np.array([[1,1],[0,0],[0,1],[1,1]])\n",
    "bin6 = np.array([[1,1],[1,1],[0,1],[1,0]])\n",
    "bin7 = np.array([[0,0],[1,0],[0,1],[1,1]])\n",
    "\n",
    "\n",
    "\n",
    "# Collection of bins\n",
    "bins = [bin1,bin2,bin3,bin4, bin5, bin6, bin7]"
   ]
  },
  {
   "cell_type": "code",
   "execution_count": 63,
   "metadata": {},
   "outputs": [],
   "source": [
    "net = CpGNet(cpgDensity=2)"
   ]
  },
  {
   "cell_type": "code",
   "execution_count": 83,
   "metadata": {},
   "outputs": [
    {
     "name": "stderr",
     "output_type": "stream",
     "text": [
      "100%|██████████| 7/7 [00:00<00:00, 17455.49it/s]\n",
      "100%|██████████| 3/3 [00:00<00:00, 299.96it/s]"
     ]
    },
    {
     "name": "stdout",
     "output_type": "stream",
     "text": [
      "bins: [<CpG_Net.CpGBin instance at 0x122f47518>, <CpG_Net.CpGBin instance at 0x122f47a28>, <CpG_Net.CpGBin instance at 0x122fabef0>, <CpG_Net.CpGBin instance at 0x122e72440>, <CpG_Net.CpGBin instance at 0x122e720e0>, <CpG_Net.CpGBin instance at 0x122e727a0>, <CpG_Net.CpGBin instance at 0x122e725f0>]\n",
      "complete_bins: [<CpG_Net.CpGBin instance at 0x122f608c0>, <CpG_Net.CpGBin instance at 0x122f60368>, <CpG_Net.CpGBin instance at 0x122f60950>, <CpG_Net.CpGBin instance at 0x122f60bd8>, <CpG_Net.CpGBin instance at 0x122f60710>, <CpG_Net.CpGBin instance at 0x122f60b90>, <CpG_Net.CpGBin instance at 0x122f60ef0>]\n",
      "masked_bins 3\n",
      "masked_bins0 {'observed': array([[ 0.,  0.],\n",
      "       [ 1., -1.],\n",
      "       [-1.,  1.],\n",
      "       [ 1.,  1.]]), 'mask': array([[ 2.,  2.],\n",
      "       [ 2., -1.],\n",
      "       [-1.,  2.],\n",
      "       [ 2.,  2.]]), 'truth': array([[ 0.,  0.],\n",
      "       [ 1.,  0.],\n",
      "       [ 0.,  1.],\n",
      "       [ 1.,  1.]])}\n",
      "masked_bins1 {'observed': array([[ 1., -1.],\n",
      "       [ 0.,  0.],\n",
      "       [-1.,  1.],\n",
      "       [ 1.,  1.]]), 'mask': array([[ 2., -1.],\n",
      "       [ 2.,  2.],\n",
      "       [-1.,  2.],\n",
      "       [ 2.,  2.]]), 'truth': array([[ 1.,  1.],\n",
      "       [ 0.,  0.],\n",
      "       [ 0.,  1.],\n",
      "       [ 1.,  1.]])}\n",
      "masked_bins2 {'observed': array([[-1.,  1.],\n",
      "       [ 1., -1.],\n",
      "       [-1.,  1.],\n",
      "       [ 1.,  0.]]), 'mask': array([[-1.,  2.],\n",
      "       [ 2., -1.],\n",
      "       [-1.,  2.],\n",
      "       [ 2.,  2.]]), 'truth': array([[ 1.,  1.],\n",
      "       [ 1.,  1.],\n",
      "       [ 0.,  1.],\n",
      "       [ 1.,  0.]])}\n",
      "observed [[ 0.  0.]\n",
      " [ 1. -1.]\n",
      " [-1.  1.]\n",
      " [ 1.  1.]]\n",
      "nan_copy [[ 0.  0.]\n",
      " [ 1. -1.]\n",
      " [-1.  1.]\n",
      " [ 1.  1.]]\n",
      "npnan: nan\n",
      "observed [[ 1. -1.]\n",
      " [ 0.  0.]\n",
      " [-1.  1.]\n",
      " [ 1.  1.]]\n",
      "nan_copy [[ 1. -1.]\n",
      " [ 0.  0.]\n",
      " [-1.  1.]\n",
      " [ 1.  1.]]\n",
      "npnan: nan\n",
      "observed [[-1.  1.]\n",
      " [ 1. -1.]\n",
      " [-1.  1.]\n",
      " [ 1.  0.]]\n",
      "nan_copy [[-1.  1.]\n",
      " [ 1. -1.]\n",
      " [-1.  1.]\n",
      " [ 1.  0.]]\n",
      "npnan: nan\n",
      "X: [[ 1.          0.66666667  1.          1.          1.         -1.          0.\n",
      "   0.          0.25        0.          0.25        0.          0.25        0.\n",
      "   0.25      ]\n",
      " [ 1.          0.66666667  2.          0.         -1.          1.          0.\n",
      "   0.          0.25        0.          0.25        0.          0.25        0.\n",
      "   0.25      ]\n",
      " [ 1.          0.66666667  0.          1.          1.         -1.          0.\n",
      "   0.          0.25        0.          0.25        0.          0.25        0.\n",
      "   0.25      ]\n",
      " [ 1.          0.66666667  2.          0.         -1.          1.          0.\n",
      "   0.          0.25        0.          0.25        0.          0.25        0.\n",
      "   0.25      ]\n",
      " [ 1.          1.          0.          0.         -1.          1.          0.\n",
      "   0.          0.5         0.          0.          0.          0.25        0.25\n",
      "   0.        ]\n",
      " [ 1.          0.66666667  1.          1.          1.         -1.          0.\n",
      "   0.          0.5         0.          0.          0.          0.25        0.25\n",
      "   0.        ]\n",
      " [ 1.          1.          2.          0.         -1.          1.          0.\n",
      "   0.          0.5         0.          0.          0.          0.25        0.25\n",
      "   0.        ]]\n"
     ]
    },
    {
     "name": "stderr",
     "output_type": "stream",
     "text": [
      "\n"
     ]
    },
    {
     "name": "stdout",
     "output_type": "stream",
     "text": [
      "_________________________________________________________________\n",
      "Layer (type)                 Output Shape              Param #   \n",
      "=================================================================\n",
      "dense_1 (Dense)              (None, 1000)              16000     \n",
      "_________________________________________________________________\n",
      "leaky_re_lu_1 (LeakyReLU)    (None, 1000)              0         \n",
      "_________________________________________________________________\n",
      "dropout_1 (Dropout)          (None, 1000)              0         \n",
      "_________________________________________________________________\n",
      "dense_2 (Dense)              (None, 800)               800800    \n",
      "_________________________________________________________________\n",
      "leaky_re_lu_2 (LeakyReLU)    (None, 800)               0         \n",
      "_________________________________________________________________\n",
      "dropout_2 (Dropout)          (None, 800)               0         \n",
      "_________________________________________________________________\n",
      "dense_3 (Dense)              (None, 500)               400500    \n",
      "_________________________________________________________________\n",
      "leaky_re_lu_3 (LeakyReLU)    (None, 500)               0         \n",
      "_________________________________________________________________\n",
      "dropout_3 (Dropout)          (None, 500)               0         \n",
      "_________________________________________________________________\n",
      "dense_4 (Dense)              (None, 100)               50100     \n",
      "_________________________________________________________________\n",
      "leaky_re_lu_4 (LeakyReLU)    (None, 100)               0         \n",
      "_________________________________________________________________\n",
      "dropout_4 (Dropout)          (None, 100)               0         \n",
      "_________________________________________________________________\n",
      "dense_5 (Dense)              (None, 1)                 101       \n",
      "=================================================================\n",
      "Total params: 1,267,501\n",
      "Trainable params: 1,267,501\n",
      "Non-trainable params: 0\n",
      "_________________________________________________________________\n",
      "None\n",
      "Train on 5 samples, validate on 2 samples\n",
      "Epoch 1/10\n",
      "Epoch 00000: val_acc improved from -inf to 0.50000, saving model to CpGNetWeights.h5\n",
      "5/5 [==============================] - 0s - loss: 0.6806 - acc: 0.4000 - val_loss: 0.6916 - val_acc: 0.5000\n",
      "Epoch 2/10\n",
      "Epoch 00001: val_acc did not improve\n",
      "5/5 [==============================] - 0s - loss: 0.7243 - acc: 0.2000 - val_loss: 0.6915 - val_acc: 0.5000\n",
      "Epoch 3/10\n",
      "Epoch 00002: val_acc did not improve\n",
      "5/5 [==============================] - 0s - loss: 0.8152 - acc: 0.0000e+00 - val_loss: 0.6913 - val_acc: 0.5000\n",
      "Epoch 4/10\n",
      "Epoch 00003: val_acc did not improve\n",
      "5/5 [==============================] - 0s - loss: 0.7378 - acc: 0.6000 - val_loss: 0.6911 - val_acc: 0.5000\n",
      "Epoch 5/10\n",
      "Epoch 00004: val_acc did not improve\n",
      "5/5 [==============================] - 0s - loss: 0.6346 - acc: 0.6000 - val_loss: 0.6909 - val_acc: 0.5000\n",
      "Epoch 6/10\n",
      "Epoch 00005: val_acc did not improve\n",
      "5/5 [==============================] - 0s - loss: 0.6934 - acc: 0.6000 - val_loss: 0.6907 - val_acc: 0.5000\n",
      "Epoch 7/10\n",
      "Epoch 00006: val_acc did not improve\n",
      "5/5 [==============================] - 0s - loss: 0.6190 - acc: 0.8000 - val_loss: 0.6906 - val_acc: 0.5000\n",
      "Epoch 8/10\n",
      "Epoch 00007: val_acc did not improve\n",
      "5/5 [==============================] - 0s - loss: 0.7647 - acc: 0.4000 - val_loss: 0.6905 - val_acc: 0.5000\n",
      "Epoch 9/10\n",
      "Epoch 00008: val_acc did not improve\n",
      "5/5 [==============================] - 0s - loss: 0.6483 - acc: 1.0000 - val_loss: 0.6903 - val_acc: 0.5000\n",
      "Epoch 10/10\n",
      "Epoch 00009: val_acc did not improve\n",
      "5/5 [==============================] - 0s - loss: 0.7181 - acc: 0.4000 - val_loss: 0.6901 - val_acc: 0.5000\n"
     ]
    }
   ],
   "source": [
    "net.train(bins)"
   ]
  }
 ],
 "metadata": {
  "kernelspec": {
   "display_name": "Python 2",
   "language": "python",
   "name": "python2"
  },
  "language_info": {
   "codemirror_mode": {
    "name": "ipython",
    "version": 2
   },
   "file_extension": ".py",
   "mimetype": "text/x-python",
   "name": "python",
   "nbconvert_exporter": "python",
   "pygments_lexer": "ipython2",
   "version": "2.7.13"
  }
 },
 "nbformat": 4,
 "nbformat_minor": 2
}
