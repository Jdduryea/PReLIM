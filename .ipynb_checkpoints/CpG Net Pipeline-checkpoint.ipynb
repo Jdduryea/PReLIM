{
 "cells": [
  {
   "cell_type": "markdown",
   "metadata": {},
   "source": [
    "# This notebook shows how CpG net can be used on real data. A full pipeline run is included. This notebook can easily be adapted into a script that can be run on  a compute cluster.\n",
    "\n",
    "Jack Duryea  \n",
    "Computational Epigenetics Section  \n",
    "Waterland Lab  \n",
    "Baylor College of Medicine  \n",
    "May 2018\n",
    "\n"
   ]
  },
  {
   "cell_type": "code",
   "execution_count": 4,
   "metadata": {},
   "outputs": [],
   "source": [
    "# from CpG_Net import CpGNet\n",
    "# from CpG_Bin import Bin\n",
    "import numpy as np\n",
    "import cPickle as pickle\n",
    "import matplotlib.pyplot as plt\n",
    "from tqdm import tqdm\n",
    "from sklearn.model_selection import train_test_split\n",
    "from sklearn import preprocessing\n",
    "from sklearn.linear_model import LogisticRegression\n",
    "from sklearn.ensemble import RandomForestClassifier\n",
    "from sklearn.ensemble import AdaBoostClassifier\n",
    "from sklearn.metrics import accuracy_score\n",
    "from random import shuffle\n",
    "from sklearn.metrics import roc_curve, auc\n",
    "\n",
    "%load_ext autoreload\n",
    "%autoreload 2\n",
    "%matplotlib inline"
   ]
  },
  {
   "cell_type": "markdown",
   "metadata": {},
   "source": [
    "## 1. Load data"
   ]
  },
  {
   "cell_type": "code",
   "execution_count": 2,
   "metadata": {
    "collapsed": true
   },
   "outputs": [],
   "source": [
    "data = pickle.load(open(\"HAMbins.p\",\"rb\")) "
   ]
  },
  {
   "cell_type": "code",
   "execution_count": 3,
   "metadata": {},
   "outputs": [
    {
     "name": "stdout",
     "output_type": "stream",
     "text": [
      "There are  294045  bins in the dataset\n"
     ]
    }
   ],
   "source": [
    "print \"There are \", len(data) , \" bins in the dataset\""
   ]
  },
  {
   "cell_type": "markdown",
   "metadata": {},
   "source": [
    "## 2. Filter read depth (at least 20 reads)"
   ]
  },
  {
   "cell_type": "code",
   "execution_count": 4,
   "metadata": {
    "collapsed": true
   },
   "outputs": [],
   "source": [
    "min_read_depth = 20\n",
    "read_filtered_data = [bin_ for bin_ in data if bin_.matrix.shape[0] >= min_read_depth]"
   ]
  },
  {
   "cell_type": "markdown",
   "metadata": {},
   "source": [
    "## 3. Split by density, up to 8Cpgs in 100 bp bins"
   ]
  },
  {
   "cell_type": "code",
   "execution_count": 5,
   "metadata": {
    "collapsed": true
   },
   "outputs": [],
   "source": [
    "cpg_2_bins = [bin_ for bin_ in read_filtered_data if bin_.matrix.shape[1]==2]\n",
    "cpg_3_bins = [bin_ for bin_ in read_filtered_data if bin_.matrix.shape[1]==3]\n",
    "cpg_4_bins = [bin_ for bin_ in read_filtered_data if bin_.matrix.shape[1]==4]\n",
    "cpg_5_bins = [bin_ for bin_ in read_filtered_data if bin_.matrix.shape[1]==5]\n",
    "cpg_6_bins = [bin_ for bin_ in read_filtered_data if bin_.matrix.shape[1]==6]\n",
    "cpg_7_bins = [bin_ for bin_ in read_filtered_data if bin_.matrix.shape[1]==7]\n",
    "cpg_8_bins = [bin_ for bin_ in read_filtered_data if bin_.matrix.shape[1]==8]\n",
    "\n",
    "bin_dict = {}\n",
    "bin_dict[2] = cpg_2_bins\n",
    "bin_dict[3] = cpg_3_bins\n",
    "bin_dict[4] = cpg_4_bins\n",
    "bin_dict[5] = cpg_5_bins\n",
    "bin_dict[6] = cpg_6_bins\n",
    "bin_dict[7] = cpg_7_bins\n",
    "bin_dict[8] = cpg_8_bins\n",
    "\n",
    "\n"
   ]
  },
  {
   "cell_type": "code",
   "execution_count": 323,
   "metadata": {
    "collapsed": true
   },
   "outputs": [],
   "source": [
    "# The cpg density we are working with\n",
    "CPG_DENSITY = 3"
   ]
  },
  {
   "cell_type": "code",
   "execution_count": 324,
   "metadata": {
    "collapsed": true
   },
   "outputs": [],
   "source": [
    "# get a subset of the data to speed things up\n",
    "cpgs_bins = bin_dict[CPG_DENSITY]\n",
    "shuffle(cpgs_bins)\n",
    "cpgs_bins_subset = cpgs_bins[:10000]"
   ]
  },
  {
   "cell_type": "markdown",
   "metadata": {},
   "source": [
    "# 4. Create CpG Net (this example is for 2 CpGs)"
   ]
  },
  {
   "cell_type": "code",
   "execution_count": 325,
   "metadata": {
    "collapsed": true
   },
   "outputs": [],
   "source": [
    "net = CpGNet(cpgDensity=CPG_DENSITY)"
   ]
  },
  {
   "cell_type": "markdown",
   "metadata": {},
   "source": [
    "# 5. Collect Feature Vectors"
   ]
  },
  {
   "cell_type": "code",
   "execution_count": 326,
   "metadata": {},
   "outputs": [
    {
     "name": "stderr",
     "output_type": "stream",
     "text": [
      "  0%|          | 3/10000 [00:00<06:24, 26.01it/s]"
     ]
    },
    {
     "name": "stdout",
     "output_type": "stream",
     "text": [
      "collecting\n"
     ]
    },
    {
     "name": "stderr",
     "output_type": "stream",
     "text": [
      "100%|██████████| 10000/10000 [04:19<00:00, 38.32it/s]\n"
     ]
    }
   ],
   "source": [
    "X, y = net.collectFeatures(cpgs_bins_subset) # extract features"
   ]
  },
  {
   "cell_type": "code",
   "execution_count": 327,
   "metadata": {
    "collapsed": true
   },
   "outputs": [],
   "source": [
    "# filter out missing values\n",
    "nonneg = y!=-1\n",
    "X_u = X[nonneg]\n",
    "y_u = y[nonneg]"
   ]
  },
  {
   "cell_type": "markdown",
   "metadata": {},
   "source": [
    "# 6. Train/Test Split "
   ]
  },
  {
   "cell_type": "code",
   "execution_count": 328,
   "metadata": {
    "collapsed": true
   },
   "outputs": [],
   "source": [
    "X_train, X_test, y_train, y_test = train_test_split(X_u, y_u)"
   ]
  },
  {
   "cell_type": "code",
   "execution_count": 329,
   "metadata": {},
   "outputs": [
    {
     "data": {
      "text/plain": [
       "(array([ 249331.,       0.,       0.,       0.,       0.,       0.,\n",
       "              0.,       0.,       0.,  829082.]),\n",
       " array([ 0. ,  0.1,  0.2,  0.3,  0.4,  0.5,  0.6,  0.7,  0.8,  0.9,  1. ]),\n",
       " <a list of 10 Patch objects>)"
      ]
     },
     "execution_count": 329,
     "metadata": {},
     "output_type": "execute_result"
    },
    {
     "data": {
      "image/png": "[encoded data removed]",
      "text/plain": [
       "<matplotlib.figure.Figure at 0x12b0bd610>"
      ]
     },
     "metadata": {},
     "output_type": "display_data"
    }
   ],
   "source": [
    "plt.hist(y_train)"
   ]
  },
  {
   "cell_type": "code",
   "execution_count": 330,
   "metadata": {},
   "outputs": [
    {
     "name": "stdout",
     "output_type": "stream",
     "text": [
      "0.768014665995\n",
      "0.768798224799\n"
     ]
    }
   ],
   "source": [
    "# Make sure class representation is the same between train and test\n",
    "print np.count_nonzero(y_test==1)/float(len(y_test))\n",
    "print np.count_nonzero(y_train==1)/float(len(y_train))"
   ]
  },
  {
   "cell_type": "markdown",
   "metadata": {},
   "source": [
    "## Preprocess (very important!)"
   ]
  },
  {
   "cell_type": "code",
   "execution_count": 331,
   "metadata": {
    "collapsed": true
   },
   "outputs": [],
   "source": [
    "X_train_scaled = preprocessing.scale(X_train)\n",
    "X_test_scaled = preprocessing.scale(X_test)"
   ]
  },
  {
   "cell_type": "code",
   "execution_count": 51,
   "metadata": {},
   "outputs": [
    {
     "data": {
      "text/plain": [
       "(722889, 15)"
      ]
     },
     "execution_count": 51,
     "metadata": {},
     "output_type": "execute_result"
    }
   ],
   "source": [
    "X_train_scaled.shape"
   ]
  },
  {
   "cell_type": "code",
   "execution_count": 351,
   "metadata": {},
   "outputs": [
    {
     "name": "stdout",
     "output_type": "stream",
     "text": [
      "Train on 800 samples, validate on 200 samples\n",
      "Epoch 1/1000\n",
      "768/800 [===========================>..] - ETA: 0s - loss: 0.4807 - acc: 0.8034Epoch 00000: val_acc improved from -inf to 0.83000, saving model to CpGNetWeights2.h5\n",
      "800/800 [==============================] - 1s - loss: 0.4824 - acc: 0.8050 - val_loss: 0.4425 - val_acc: 0.8300\n",
      "Epoch 2/1000\n",
      "736/800 [==========================>...] - ETA: 0s - loss: 0.4088 - acc: 0.8465Epoch 00001: val_acc improved from 0.83000 to 0.85000, saving model to CpGNetWeights2.h5\n",
      "800/800 [==============================] - 0s - loss: 0.4187 - acc: 0.8387 - val_loss: 0.4175 - val_acc: 0.8500\n",
      "Epoch 3/1000\n",
      "752/800 [===========================>..] - ETA: 0s - loss: 0.3848 - acc: 0.8551Epoch 00002: val_acc did not improve\n",
      "800/800 [==============================] - 0s - loss: 0.3871 - acc: 0.8563 - val_loss: 0.4227 - val_acc: 0.8300\n",
      "Epoch 4/1000\n",
      "752/800 [===========================>..] - ETA: 0s - loss: 0.3657 - acc: 0.8444Epoch 00003: val_acc did not improve\n",
      "800/800 [==============================] - 0s - loss: 0.3664 - acc: 0.8462 - val_loss: 0.4202 - val_acc: 0.8350\n",
      "Epoch 5/1000\n",
      "736/800 [==========================>...] - ETA: 0s - loss: 0.3602 - acc: 0.8573Epoch 00004: val_acc did not improve\n",
      "800/800 [==============================] - 0s - loss: 0.3520 - acc: 0.8575 - val_loss: 0.4087 - val_acc: 0.8500\n",
      "Epoch 6/1000\n",
      "784/800 [============================>.] - ETA: 0s - loss: 0.3343 - acc: 0.8482Epoch 00005: val_acc did not improve\n",
      "800/800 [==============================] - 0s - loss: 0.3337 - acc: 0.8475 - val_loss: 0.4006 - val_acc: 0.8200\n",
      "Epoch 7/1000\n",
      "784/800 [============================>.] - ETA: 0s - loss: 0.3119 - acc: 0.8699Epoch 00006: val_acc did not improve\n",
      "800/800 [==============================] - 0s - loss: 0.3115 - acc: 0.8700 - val_loss: 0.4062 - val_acc: 0.8450\n",
      "Epoch 8/1000\n",
      "736/800 [==========================>...] - ETA: 0s - loss: 0.2981 - acc: 0.8791Epoch 00007: val_acc did not improve\n",
      "800/800 [==============================] - 0s - loss: 0.3037 - acc: 0.8738 - val_loss: 0.4156 - val_acc: 0.8150\n",
      "Epoch 9/1000\n",
      "768/800 [===========================>..] - ETA: 0s - loss: 0.3227 - acc: 0.8516Epoch 00008: val_acc did not improve\n",
      "800/800 [==============================] - 0s - loss: 0.3149 - acc: 0.8550 - val_loss: 0.4017 - val_acc: 0.8400\n",
      "Epoch 10/1000\n",
      "752/800 [===========================>..] - ETA: 0s - loss: 0.3006 - acc: 0.8750Epoch 00009: val_acc did not improve\n",
      "800/800 [==============================] - 0s - loss: 0.3028 - acc: 0.8775 - val_loss: 0.4109 - val_acc: 0.8350\n",
      "Epoch 11/1000\n",
      "752/800 [===========================>..] - ETA: 0s - loss: 0.2629 - acc: 0.8870Epoch 00010: val_acc did not improve\n",
      "800/800 [==============================] - 0s - loss: 0.2652 - acc: 0.8838 - val_loss: 0.3969 - val_acc: 0.8350\n",
      "Epoch 12/1000\n",
      "768/800 [===========================>..] - ETA: 0s - loss: 0.2658 - acc: 0.8984Epoch 00011: val_acc did not improve\n",
      "800/800 [==============================] - 0s - loss: 0.2731 - acc: 0.8962 - val_loss: 0.4132 - val_acc: 0.8400\n",
      "Epoch 13/1000\n",
      "752/800 [===========================>..] - ETA: 0s - loss: 0.2516 - acc: 0.8963Epoch 00012: val_acc did not improve\n",
      "800/800 [==============================] - 0s - loss: 0.2490 - acc: 0.8988 - val_loss: 0.4670 - val_acc: 0.8400\n",
      "Epoch 14/1000\n",
      "752/800 [===========================>..] - ETA: 0s - loss: 0.2479 - acc: 0.9003Epoch 00013: val_acc did not improve\n",
      "800/800 [==============================] - 0s - loss: 0.2475 - acc: 0.9012 - val_loss: 0.4247 - val_acc: 0.8400\n",
      "Epoch 15/1000\n",
      "768/800 [===========================>..] - ETA: 0s - loss: 0.2601 - acc: 0.9010Epoch 00014: val_acc did not improve\n",
      "800/800 [==============================] - 1s - loss: 0.2644 - acc: 0.8975 - val_loss: 0.4483 - val_acc: 0.8250\n",
      "Epoch 16/1000\n",
      "752/800 [===========================>..] - ETA: 0s - loss: 0.2696 - acc: 0.8936Epoch 00015: val_acc did not improve\n",
      "800/800 [==============================] - 0s - loss: 0.2673 - acc: 0.8937 - val_loss: 0.4034 - val_acc: 0.8300\n",
      "Epoch 17/1000\n",
      "784/800 [============================>.] - ETA: 0s - loss: 0.2543 - acc: 0.8992Epoch 00016: val_acc did not improve\n",
      "800/800 [==============================] - 0s - loss: 0.2502 - acc: 0.9012 - val_loss: 0.4046 - val_acc: 0.8500\n",
      "Epoch 00016: early stopping\n"
     ]
    }
   ],
   "source": [
    "history = net.fit(X_train_scaled[:1000], y_train[:1000], val_split=0.2, epochs=1000, batch_size=16)"
   ]
  },
  {
   "cell_type": "code",
   "execution_count": null,
   "metadata": {
    "collapsed": true
   },
   "outputs": [],
   "source": [
    "plt.plot(history.history[\"loss\"],label=\"training\")\n",
    "plt.plot(history.history[\"val_loss\"],label=\"validation\")\n",
    "#plt.ylim([0,0.4])\n",
    "plt.xlabel(\"Training Epoch\")\n",
    "plt.ylabel(\"Loss\")\n",
    "plt.legend()\n",
    "plt.title(\"Model Loss\")"
   ]
  },
  {
   "cell_type": "code",
   "execution_count": null,
   "metadata": {
    "collapsed": true
   },
   "outputs": [],
   "source": [
    "plt.plot(history.history[\"acc\"],label=\"training\")\n",
    "plt.plot(history.history[\"val_acc\"],label=\"validation\")\n",
    "#plt.ylim([0,1])\n",
    "plt.xlabel(\"Training Epoch\")\n",
    "plt.ylabel(\"Loss\")\n",
    "plt.legend()\n",
    "plt.title(\"Model Accuracy\")"
   ]
  },
  {
   "cell_type": "markdown",
   "metadata": {},
   "source": [
    "# Compute Train Accuracy"
   ]
  },
  {
   "cell_type": "code",
   "execution_count": null,
   "metadata": {
    "collapsed": true
   },
   "outputs": [],
   "source": [
    "y_train_pred = net.predict(X_train_scaled)"
   ]
  },
  {
   "cell_type": "code",
   "execution_count": null,
   "metadata": {
    "collapsed": true
   },
   "outputs": [],
   "source": [
    "y_train_pred_bin = np.copy(y_train_pred)\n",
    "y_train_pred_bin[y_train_pred_bin>0.5] = 1\n",
    "y_train_pred_bin[y_train_pred_bin<0.5] = 0\n",
    "\n",
    "accuracy_score(y_train_pred_bin, y_train)"
   ]
  },
  {
   "cell_type": "code",
   "execution_count": null,
   "metadata": {
    "collapsed": true
   },
   "outputs": [],
   "source": [
    "false_positive_rate, true_positive_rate, thresholds = roc_curve(y_train, y_train_pred)\n",
    "roc_auc = auc(false_positive_rate, true_positive_rate)\n",
    "print \"AUC:\",roc_auc\n",
    "plt.title(\"Train ROC, AUC = %0.5f\"% roc_auc, fontsize=15)\n",
    "plt.plot(false_positive_rate, true_positive_rate, 'b')\n",
    "plt.legend(loc='lower right')\n",
    "plt.plot([0,1],[0,1],'r--')\n",
    "plt.xlim([-0.1,1.2])\n",
    "plt.ylim([-0.1,1.2])\n",
    "plt.ylabel('True Positive Rate',fontsize=15)\n",
    "plt.xlabel('False Positive Rate',fontsize=15)"
   ]
  },
  {
   "cell_type": "markdown",
   "metadata": {},
   "source": [
    "# Train Tradeoff"
   ]
  },
  {
   "cell_type": "code",
   "execution_count": null,
   "metadata": {
    "collapsed": true
   },
   "outputs": [],
   "source": [
    "get_tradeoff(X_train_scaled, y_train_pred, y_train, net, \"CpG Net\")"
   ]
  },
  {
   "cell_type": "code",
   "execution_count": null,
   "metadata": {
    "collapsed": true
   },
   "outputs": [],
   "source": [
    "plt.hist(y_train_pred,bins=20);\n",
    "plt.xlabel(\"Predicted Probability\")\n",
    "plt.ylabel(\"Frequency\")\n",
    "plt.title(\"Distribution of Predicted Train Probabilities\")"
   ]
  },
  {
   "cell_type": "markdown",
   "metadata": {},
   "source": [
    "# Compute Test Accuracy"
   ]
  },
  {
   "cell_type": "code",
   "execution_count": null,
   "metadata": {
    "collapsed": true
   },
   "outputs": [],
   "source": [
    "y_test_pred = net.predict(X_test_scaled)"
   ]
  },
  {
   "cell_type": "code",
   "execution_count": null,
   "metadata": {
    "collapsed": true
   },
   "outputs": [],
   "source": [
    "false_positive_rate, true_positive_rate, thresholds = roc_curve(y_test, y_test_pred)\n",
    "roc_auc = auc(false_positive_rate, true_positive_rate)\n",
    "print \"AUC:\",roc_auc\n",
    "plt.title(\"Test Data ROC, AUC = %0.5f\"% roc_auc, fontsize=15)\n",
    "plt.plot(false_positive_rate, true_positive_rate, 'b')\n",
    "plt.legend(loc='lower right')\n",
    "plt.plot([0,1],[0,1],'r--')\n",
    "plt.xlim([-0.1,1.2])\n",
    "plt.ylim([-0.1,1.2])\n",
    "plt.ylabel('True Positive Rate',fontsize=15)\n",
    "plt.xlabel('False Positive Rate',fontsize=15)"
   ]
  },
  {
   "cell_type": "markdown",
   "metadata": {},
   "source": [
    "# Test Tradeoff"
   ]
  },
  {
   "cell_type": "code",
   "execution_count": null,
   "metadata": {
    "collapsed": true
   },
   "outputs": [],
   "source": [
    "get_tradeoff(X_test_scaled, y_test_pred, y_test, net, \"CpG Net\")"
   ]
  },
  {
   "cell_type": "code",
   "execution_count": null,
   "metadata": {
    "collapsed": true
   },
   "outputs": [],
   "source": [
    "plt.hist(y_test_pred,bins=30);\n",
    "plt.xlabel(\"Predicted Probability\")\n",
    "plt.ylabel(\"Frequency\")\n",
    "plt.title(\"Distribution of Predicted Test Probabilities\")"
   ]
  },
  {
   "cell_type": "markdown",
   "metadata": {},
   "source": [
    "# Random Forest"
   ]
  },
  {
   "cell_type": "code",
   "execution_count": 338,
   "metadata": {},
   "outputs": [
    {
     "data": {
      "text/plain": [
       "RandomForestClassifier(bootstrap=True, class_weight=None, criterion='gini',\n",
       "            max_depth=None, max_features='auto', max_leaf_nodes=None,\n",
       "            min_impurity_split=1e-07, min_samples_leaf=1,\n",
       "            min_samples_split=2, min_weight_fraction_leaf=0.0,\n",
       "            n_estimators=100, n_jobs=4, oob_score=False, random_state=None,\n",
       "            verbose=0, warm_start=False)"
      ]
     },
     "execution_count": 338,
     "metadata": {},
     "output_type": "execute_result"
    }
   ],
   "source": [
    "rf = RandomForestClassifier(n_estimators=100, n_jobs=4)\n",
    "rf.fit(X_train_scaled, y_train)"
   ]
  },
  {
   "cell_type": "code",
   "execution_count": 339,
   "metadata": {
    "collapsed": true
   },
   "outputs": [],
   "source": [
    "rf_train_pred = rf.predict_proba(X_train_scaled)"
   ]
  },
  {
   "cell_type": "code",
   "execution_count": 340,
   "metadata": {},
   "outputs": [
    {
     "data": {
      "text/plain": [
       "([array([ 610571.,   95270.,   74829.,   53285.,   39494.,   29151.,\n",
       "           22871.,   19400.,   16966.,  116576.]),\n",
       "  array([ 116518.,   17015.,   19411.,   22869.,   29151.,   39494.,\n",
       "           53287.,   74821.,   95240.,  610607.])],\n",
       " array([ 0. ,  0.1,  0.2,  0.3,  0.4,  0.5,  0.6,  0.7,  0.8,  0.9,  1. ]),\n",
       " <a list of 2 Lists of Patches objects>)"
      ]
     },
     "execution_count": 340,
     "metadata": {},
     "output_type": "execute_result"
    },
    {
     "data": {
      "image/png": "[encoded data removed]",
      "text/plain": [
       "<matplotlib.figure.Figure at 0x122d3ed10>"
      ]
     },
     "metadata": {},
     "output_type": "display_data"
    }
   ],
   "source": [
    "plt.hist(rf_train_pred)"
   ]
  },
  {
   "cell_type": "code",
   "execution_count": 341,
   "metadata": {
    "collapsed": true
   },
   "outputs": [],
   "source": [
    "rf_test_pred = rf.predict_proba(X_test_scaled)"
   ]
  },
  {
   "cell_type": "code",
   "execution_count": 342,
   "metadata": {},
   "outputs": [
    {
     "data": {
      "text/plain": [
       "0.90564746530318163"
      ]
     },
     "execution_count": 342,
     "metadata": {},
     "output_type": "execute_result"
    }
   ],
   "source": [
    "accuracy_score(np.round(rf_train_pred[:,1]), y_train, rf)"
   ]
  },
  {
   "cell_type": "code",
   "execution_count": 343,
   "metadata": {},
   "outputs": [
    {
     "data": {
      "text/plain": [
       "0.88901469103209996"
      ]
     },
     "execution_count": 343,
     "metadata": {},
     "output_type": "execute_result"
    }
   ],
   "source": [
    "accuracy_score(np.round(rf_test_pred[:,1]), y_test, rf)"
   ]
  },
  {
   "cell_type": "code",
   "execution_count": 344,
   "metadata": {},
   "outputs": [
    {
     "name": "stdout",
     "output_type": "stream",
     "text": [
      "AUC: 0.960453972534\n"
     ]
    },
    {
     "data": {
      "text/plain": [
       "<matplotlib.text.Text at 0x1331000d0>"
      ]
     },
     "execution_count": 344,
     "metadata": {},
     "output_type": "execute_result"
    },
    {
     "data": {
      "image/png": "[encoded data removed]",
      "text/plain": [
       "<matplotlib.figure.Figure at 0x125e84bd0>"
      ]
     },
     "metadata": {},
     "output_type": "display_data"
    }
   ],
   "source": [
    "false_positive_rate, true_positive_rate, thresholds = roc_curve(y_train, rf_train_pred[:,1])\n",
    "roc_auc = auc(false_positive_rate, true_positive_rate)\n",
    "print \"AUC:\",roc_auc\n",
    "plt.title(\"Train Data ROC, AUC = %0.5f\"% roc_auc, fontsize=15)\n",
    "plt.plot(false_positive_rate, true_positive_rate, 'b')\n",
    "plt.legend(loc='lower right')\n",
    "plt.plot([0,1],[0,1],'r--')\n",
    "plt.xlim([-0.1,1.2])\n",
    "plt.ylim([-0.1,1.2])\n",
    "plt.ylabel('True Positive Rate',fontsize=15)\n",
    "plt.xlabel('False Positive Rate',fontsize=15)"
   ]
  },
  {
   "cell_type": "code",
   "execution_count": 345,
   "metadata": {},
   "outputs": [
    {
     "data": {
      "image/png": "[encoded data removed]",
      "text/plain": [
       "<matplotlib.figure.Figure at 0x12b2b8390>"
      ]
     },
     "metadata": {},
     "output_type": "display_data"
    }
   ],
   "source": [
    "get_tradeoff(X_train_scaled, rf_train_pred[:,1], y_train,rf, \"RF Train\")"
   ]
  },
  {
   "cell_type": "code",
   "execution_count": 346,
   "metadata": {},
   "outputs": [
    {
     "name": "stdout",
     "output_type": "stream",
     "text": [
      "AUC: 0.939083117397\n"
     ]
    },
    {
     "data": {
      "text/plain": [
       "<matplotlib.text.Text at 0x13653e290>"
      ]
     },
     "execution_count": 346,
     "metadata": {},
     "output_type": "execute_result"
    },
    {
     "data": {
      "image/png": "[encoded data removed]",
      "text/plain": [
       "<matplotlib.figure.Figure at 0x12085fa10>"
      ]
     },
     "metadata": {},
     "output_type": "display_data"
    }
   ],
   "source": [
    "false_positive_rate, true_positive_rate, thresholds = roc_curve(y_test, rf_test_pred[:,1])\n",
    "roc_auc = auc(false_positive_rate, true_positive_rate)\n",
    "print \"AUC:\",roc_auc\n",
    "plt.title(\"Test Data ROC, AUC = %0.5f\"% roc_auc, fontsize=15)\n",
    "plt.plot(false_positive_rate, true_positive_rate, 'b')\n",
    "plt.legend(loc='lower right')\n",
    "plt.plot([0,1],[0,1],'r--')\n",
    "plt.xlim([-0.1,1.2])\n",
    "plt.ylim([-0.1,1.2])\n",
    "plt.ylabel('True Positive Rate',fontsize=15)\n",
    "plt.xlabel('False Positive Rate',fontsize=15)"
   ]
  },
  {
   "cell_type": "code",
   "execution_count": 347,
   "metadata": {},
   "outputs": [
    {
     "data": {
      "image/png": "[encoded data removed]",
      "text/plain": [
       "<matplotlib.figure.Figure at 0x124f28590>"
      ]
     },
     "metadata": {},
     "output_type": "display_data"
    }
   ],
   "source": [
    "get_tradeoff(X_test_scaled, rf_test_pred[:,1], y_test,rf, \"RF Test\")"
   ]
  },
  {
   "cell_type": "markdown",
   "metadata": {},
   "source": [
    "# Logistic Regression"
   ]
  },
  {
   "cell_type": "code",
   "execution_count": 180,
   "metadata": {},
   "outputs": [
    {
     "data": {
      "text/plain": [
       "LogisticRegression(C=1.0, class_weight=None, dual=False, fit_intercept=True,\n",
       "          intercept_scaling=1, max_iter=100, multi_class='ovr', n_jobs=1,\n",
       "          penalty='l2', random_state=None, solver='liblinear', tol=0.0001,\n",
       "          verbose=0, warm_start=False)"
      ]
     },
     "execution_count": 180,
     "metadata": {},
     "output_type": "execute_result"
    }
   ],
   "source": [
    "lr = LogisticRegression()\n",
    "lr.fit(X_train_scaled, y_train)"
   ]
  },
  {
   "cell_type": "code",
   "execution_count": 181,
   "metadata": {},
   "outputs": [
    {
     "data": {
      "text/plain": [
       "0.82725287008102211"
      ]
     },
     "execution_count": 181,
     "metadata": {},
     "output_type": "execute_result"
    }
   ],
   "source": [
    "lr.score(X_train_scaled, y_train)"
   ]
  },
  {
   "cell_type": "code",
   "execution_count": 182,
   "metadata": {},
   "outputs": [
    {
     "data": {
      "text/plain": [
       "0.82733105360136783"
      ]
     },
     "execution_count": 182,
     "metadata": {},
     "output_type": "execute_result"
    }
   ],
   "source": [
    "lr.score(X_test_scaled, y_test)"
   ]
  },
  {
   "cell_type": "code",
   "execution_count": 183,
   "metadata": {},
   "outputs": [
    {
     "data": {
      "text/plain": [
       "array([[ 0.05732007,  0.94267993],\n",
       "       [ 0.12373821,  0.87626179],\n",
       "       [ 0.36701261,  0.63298739],\n",
       "       ..., \n",
       "       [ 0.04378446,  0.95621554],\n",
       "       [ 0.05936702,  0.94063298],\n",
       "       [ 0.39427742,  0.60572258]])"
      ]
     },
     "execution_count": 183,
     "metadata": {},
     "output_type": "execute_result"
    }
   ],
   "source": [
    "lr.predict_proba(X_test_scaled)"
   ]
  },
  {
   "cell_type": "markdown",
   "metadata": {},
   "source": [
    "# ADABoost"
   ]
  },
  {
   "cell_type": "code",
   "execution_count": 96,
   "metadata": {
    "collapsed": true
   },
   "outputs": [],
   "source": [
    "X_train_scaled_sub = X_train_scaled[:10000]\n",
    "y_train_sub = y[:10000]"
   ]
  },
  {
   "cell_type": "code",
   "execution_count": 295,
   "metadata": {},
   "outputs": [
    {
     "data": {
      "text/plain": [
       "AdaBoostClassifier(algorithm='SAMME.R',\n",
       "          base_estimator=RandomForestClassifier(bootstrap=True, class_weight=None, criterion='gini',\n",
       "            max_depth=1, max_features='auto', max_leaf_nodes=None,\n",
       "            min_impurity_split=1e-07, min_samples_leaf=1,\n",
       "            min_samples_split=2, min_weight_fraction_leaf=0.0,\n",
       "            n_estimators=1, n_jobs=4, oob_score=False, random_state=None,\n",
       "            verbose=0, warm_start=False),\n",
       "          learning_rate=1.0, n_estimators=100, random_state=None)"
      ]
     },
     "execution_count": 295,
     "metadata": {},
     "output_type": "execute_result"
    }
   ],
   "source": [
    "stump = RandomForestClassifier(n_estimators=1,max_depth=1, n_jobs=4)\n",
    "ada = AdaBoostClassifier(stump, n_estimators=100)\n",
    "ada.fit(X_train_scaled,y_train)"
   ]
  },
  {
   "cell_type": "code",
   "execution_count": 296,
   "metadata": {},
   "outputs": [
    {
     "data": {
      "text/plain": [
       "0.77595730464843149"
      ]
     },
     "execution_count": 296,
     "metadata": {},
     "output_type": "execute_result"
    }
   ],
   "source": [
    "ada.score(X_train_scaled, y_train)"
   ]
  },
  {
   "cell_type": "code",
   "execution_count": 297,
   "metadata": {},
   "outputs": [
    {
     "data": {
      "text/plain": [
       "0.77666788399926956"
      ]
     },
     "execution_count": 297,
     "metadata": {},
     "output_type": "execute_result"
    }
   ],
   "source": [
    "ada.score(X_test_scaled, y_test)"
   ]
  },
  {
   "cell_type": "code",
   "execution_count": 298,
   "metadata": {
    "collapsed": true
   },
   "outputs": [],
   "source": [
    "ada_pred_y = ada.predict_proba(X_test_scaled)"
   ]
  },
  {
   "cell_type": "code",
   "execution_count": 299,
   "metadata": {},
   "outputs": [
    {
     "data": {
      "image/png": "[encoded data removed]",
      "text/plain": [
       "<matplotlib.figure.Figure at 0x129d93850>"
      ]
     },
     "metadata": {},
     "output_type": "display_data"
    }
   ],
   "source": [
    "get_tradeoff(X_test_scaled, ada_pred_y[:,1], y_test,ada, \"ada Test\")"
   ]
  },
  {
   "cell_type": "code",
   "execution_count": 300,
   "metadata": {},
   "outputs": [
    {
     "data": {
      "text/plain": [
       "([array([   1014.,    1016.,     220.,   64290.,  132016.,   36864.,\n",
       "            4863.,     681.,       0.,       0.]),\n",
       "  array([      0.,       0.,     681.,    4863.,   36864.,  132016.,\n",
       "           64290.,     220.,    1016.,    1014.])],\n",
       " array([ 0.46555524,  0.47244419,  0.47933314,  0.4862221 ,  0.49311105,\n",
       "         0.5       ,  0.50688895,  0.5137779 ,  0.52066686,  0.52755581,\n",
       "         0.53444476]),\n",
       " <a list of 2 Lists of Patches objects>)"
      ]
     },
     "execution_count": 300,
     "metadata": {},
     "output_type": "execute_result"
    },
    {
     "data": {
      "image/png": "[encoded data removed]",
      "text/plain": [
       "<matplotlib.figure.Figure at 0x12983eb90>"
      ]
     },
     "metadata": {},
     "output_type": "display_data"
    }
   ],
   "source": [
    "plt.hist(ada_pred_y)"
   ]
  },
  {
   "cell_type": "code",
   "execution_count": 43,
   "metadata": {},
   "outputs": [],
   "source": [
    "# Creates the accuracy/confidence/percent imputed plots\n",
    "def get_tradeoff(pred, y_actual):\n",
    "    confs = []\n",
    "    accs = []\n",
    "    totals_perc = []\n",
    "    for conf in ([0.01]+[x/10.0 for x in range(1,10)] + [0.99]):\n",
    "        thresh=conf/2.0\n",
    "        num_correct = 0\n",
    "        num_total = 0\n",
    "        for i in range(pred.shape[0]):\n",
    "            #print \"distance:\",np.abs(0.5-pred[i])\n",
    "            if np.abs(0.5-pred[i]) > thresh:\n",
    "                num_total+=1\n",
    "                if np.round(pred[i]) == y_actual[i]:\n",
    "                    num_correct +=1\n",
    "        if num_total != 0:\n",
    "            acc = num_correct/float(num_total)\n",
    "            confs.append(conf)\n",
    "            accs.append(acc)\n",
    "            totals_perc.append(num_total/float(len(pred)))\n",
    "\n",
    "       # print num_correct/float(num_total)\n",
    "    \n",
    "    \n",
    "    atm = accuracy_tradeoff_metric(accs, totals_perc)\n",
    "    print \"ATM:\",atm\n",
    "    fig, ax1 = plt.subplots()\n",
    "    #plt.title(\"Accuracy-Data Gained Tradeoff for \"+ model_name, fontsize=15)\n",
    "    plt.axhline(y=0.95, color='r', linestyle='--')\n",
    "    \n",
    "    plt.ylim([0,1])\n",
    "\n",
    "    ax2 = ax1.twinx()\n",
    "    ax1.plot(confs, accs, 'g-')\n",
    "\n",
    "    ax2.plot(confs, totals_perc, 'b-')\n",
    "    ax1.set_xlabel('Confidence',fontsize=15)\n",
    "    ax1.set_ylabel('Accuracy', color='g',fontsize=15)\n",
    "    ax2.set_ylabel('Percent Imputed', color='b',fontsize=15)\n",
    "    plt.ylim([0,1])\n",
    "    #plt.savefig(\"tradeoff\"+model_name+\".png\",dpi=500)\n",
    "    plt.show() \n",
    "    return atm\n",
    "    \n",
    "def accuracy_tradeoff_metric(accuracies, retention):\n",
    "    avg_acc = np.mean(accuracies)\n",
    "    area_under_renention_curve = np.trapz(retention, dx=0.1)\n",
    "    return avg_acc * area_under_renention_curve"
   ]
  },
  {
   "cell_type": "code",
   "execution_count": 53,
   "metadata": {},
   "outputs": [
    {
     "name": "stdout",
     "output_type": "stream",
     "text": [
      "ATM: 0.543383838384\n"
     ]
    },
    {
     "data": {
      "image/png": "[encoded data removed]",
      "text/plain": [
       "<matplotlib.figure.Figure at 0x11ab27c10>"
      ]
     },
     "metadata": {},
     "output_type": "display_data"
    }
   ],
   "source": [
    "y_pred = np.array([1,1,1.0,0.3, 0.01, 1])\n",
    "actual = np.array([1,1,0,0,0.0, 0, 0])\n",
    "get_tradeoff(y_pred, actual)"
   ]
  },
  {
   "cell_type": "code",
   "execution_count": null,
   "metadata": {
    "collapsed": true
   },
   "outputs": [],
   "source": []
  }
 ],
 "metadata": {
  "kernelspec": {
   "display_name": "Python 2",
   "language": "python",
   "name": "python2"
  },
  "language_info": {
   "codemirror_mode": {
    "name": "ipython",
    "version": 2
   },
   "file_extension": ".py",
   "mimetype": "text/x-python",
   "name": "python",
   "nbconvert_exporter": "python",
   "pygments_lexer": "ipython2",
   "version": "2.7.13"
  }
 },
 "nbformat": 4,
 "nbformat_minor": 2
}
