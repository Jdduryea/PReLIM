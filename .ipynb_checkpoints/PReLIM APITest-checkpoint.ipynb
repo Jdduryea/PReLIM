{
 "cells": [
  {
   "cell_type": "code",
   "execution_count": null,
   "metadata": {
    "collapsed": true
   },
   "outputs": [],
   "source": [
    "# Test run of the PReLIM Net API.\n",
    "# Author: Jack Duryea"
   ]
  },
  {
   "cell_type": "code",
   "execution_count": 19,
   "metadata": {},
   "outputs": [
    {
     "name": "stdout",
     "output_type": "stream",
     "text": [
      "The autoreload extension is already loaded. To reload it, use:\n",
      "  %reload_ext autoreload\n"
     ]
    }
   ],
   "source": [
    "from PReLIM import PReLIM\n",
    "import numpy as np\n",
    "import time\n",
    "from tqdm import tqdm\n",
    "import matplotlib.pyplot as plt\n",
    "%matplotlib inline\n",
    "# Automatic reloading so we don't have to restart the kernel each time we make a change\n",
    "# to CpGNet when we are debuggin\n",
    "%load_ext autoreload\n",
    "%autoreload 2"
   ]
  },
  {
   "cell_type": "markdown",
   "metadata": {},
   "source": [
    "### Step 1: Collect some data"
   ]
  },
  {
   "cell_type": "code",
   "execution_count": 20,
   "metadata": {},
   "outputs": [],
   "source": [
    "\n",
    "# Some bins with 2 cpgs\n",
    "bin1 = np.array([[1,0],[0,-1],[-1,1],[0,0]],dtype=float)\n",
    "bin2 = np.array([[1,0],[1,0],[-1,1],[0,0],[0,1],[1,1],[0,0]],dtype=float)\n",
    "bin3 = np.array([[-1,1],[0,-1],[-1,1],[0,0]],dtype=float)\n",
    "bin4 = np.array([[1,-1],[0,1],[-1,1],[1,0]],dtype=float)\n",
    "bin5 = np.array([[1,1],[0,0],[0,1],[1,1]],dtype=float)\n",
    "bin6 = np.array([[1,1],[1,1],[0,1],[1,0]],dtype=float)\n",
    "bin7 = np.array([[0,0],[1,0],[0,1],[1,1]],dtype=float)\n",
    "\n",
    "# Collection of bins\n",
    "bins = [bin1,bin2,bin3,bin4, bin5, bin6, bin7]"
   ]
  },
  {
   "cell_type": "markdown",
   "metadata": {},
   "source": [
    "### Step 2: Create a model and train on the data. CpGNet will take care of  feature extraction and all that other boring stuff, it just works!"
   ]
  },
  {
   "cell_type": "code",
   "execution_count": 22,
   "metadata": {},
   "outputs": [
    {
     "name": "stderr",
     "output_type": "stream",
     "text": [
      "100%|██████████| 7/7 [00:00<00:00, 5899.16it/s]\n",
      "100%|██████████| 3/3 [00:00<00:00, 1215.98it/s]\n",
      "/anaconda3/lib/python3.7/site-packages/sklearn/model_selection/_split.py:652: Warning: The least populated class in y has only 2 members, which is too few. The minimum number of members in any class cannot be less than n_splits=5.\n",
      "  % (min_groups, self.n_splits)), Warning)\n",
      "/anaconda3/lib/python3.7/site-packages/sklearn/model_selection/_search.py:841: DeprecationWarning: The default of the `iid` parameter will change from True to False in version 0.22 and will be removed in 0.24. This will change numeric results when test-set sizes are unequal.\n",
      "  DeprecationWarning)\n"
     ]
    }
   ],
   "source": [
    "model = PReLIM(cpgDensity=2)\n",
    "\n",
    "# 3 options for training/saving model\n",
    "model.train(bins, model_file=\"no\") # don't want a model file, must use \"no\"\n",
    "#model.train(bins, model_file=None) # use a generic title w/ timestamp for the model file\n",
    "#model.train(bins, model_file=\"my custom file\") # custom file name"
   ]
  },
  {
   "cell_type": "markdown",
   "metadata": {},
   "source": [
    "### Step 3: Impute! (imputation result might look strange here since training data size is small)"
   ]
  },
  {
   "cell_type": "code",
   "execution_count": 23,
   "metadata": {},
   "outputs": [
    {
     "data": {
      "text/plain": [
       "array([[1. , 0. ],\n",
       "       [0. , 0.4],\n",
       "       [0.4, 1. ],\n",
       "       [0. , 0. ]])"
      ]
     },
     "execution_count": 23,
     "metadata": {},
     "output_type": "execute_result"
    }
   ],
   "source": [
    "model.impute(bin1)"
   ]
  },
  {
   "cell_type": "code",
   "execution_count": 25,
   "metadata": {},
   "outputs": [
    {
     "data": {
      "text/plain": [
       "array([[-1.,  1.],\n",
       "       [ 0., -1.],\n",
       "       [-1.,  1.],\n",
       "       [ 0.,  0.]])"
      ]
     },
     "execution_count": 25,
     "metadata": {},
     "output_type": "execute_result"
    }
   ],
   "source": [
    "bin3"
   ]
  },
  {
   "cell_type": "code",
   "execution_count": 24,
   "metadata": {},
   "outputs": [
    {
     "data": {
      "text/plain": [
       "array([[0.5, 1. ],\n",
       "       [0. , 0.3],\n",
       "       [0.4, 1. ],\n",
       "       [0. , 0. ]])"
      ]
     },
     "execution_count": 24,
     "metadata": {},
     "output_type": "execute_result"
    }
   ],
   "source": [
    "model.impute(bin3)"
   ]
  },
  {
   "cell_type": "code",
   "execution_count": 26,
   "metadata": {},
   "outputs": [],
   "source": [
    "binA = np.array([[0,0],[0,0],[0,-1],[0,0],[0,0]],dtype=float)"
   ]
  },
  {
   "cell_type": "code",
   "execution_count": 27,
   "metadata": {},
   "outputs": [],
   "source": [
    "binB = np.array([[1,1],[1,1],[1,-1],[1,1],[1,1]],dtype=float)"
   ]
  },
  {
   "cell_type": "code",
   "execution_count": 29,
   "metadata": {},
   "outputs": [
    {
     "data": {
      "text/plain": [
       "array([[ 1.,  1.],\n",
       "       [ 1.,  1.],\n",
       "       [ 1., -1.],\n",
       "       [ 1.,  1.],\n",
       "       [ 1.,  1.]])"
      ]
     },
     "execution_count": 29,
     "metadata": {},
     "output_type": "execute_result"
    }
   ],
   "source": [
    "binB"
   ]
  },
  {
   "cell_type": "code",
   "execution_count": 28,
   "metadata": {},
   "outputs": [
    {
     "data": {
      "text/plain": [
       "array([[1., 1.],\n",
       "       [1., 1.],\n",
       "       [1., 0.],\n",
       "       [1., 1.],\n",
       "       [1., 1.]])"
      ]
     },
     "execution_count": 28,
     "metadata": {},
     "output_type": "execute_result"
    }
   ],
   "source": [
    "model.impute(binB)"
   ]
  },
  {
   "cell_type": "code",
   "execution_count": 17,
   "metadata": {},
   "outputs": [
    {
     "name": "stderr",
     "output_type": "stream",
     "text": [
      "100%|██████████| 7/7 [00:00<00:00, 12660.68it/s]\n",
      "100%|██████████| 3/3 [00:00<00:00, 713.44it/s]\n"
     ]
    }
   ],
   "source": [
    "X,y = model.get_X_y(bins)"
   ]
  },
  {
   "cell_type": "code",
   "execution_count": 18,
   "metadata": {},
   "outputs": [
    {
     "data": {
      "text/plain": [
       "array([[0.55833333, 0.44166667]])"
      ]
     },
     "execution_count": 18,
     "metadata": {},
     "output_type": "execute_result"
    }
   ],
   "source": [
    "model.predict(X)"
   ]
  },
  {
   "cell_type": "code",
   "execution_count": null,
   "metadata": {},
   "outputs": [],
   "source": [
    "model.model.predict_proba"
   ]
  },
  {
   "cell_type": "code",
   "execution_count": 31,
   "metadata": {
    "scrolled": true
   },
   "outputs": [],
   "source": [
    "predicted_matrices = model.impute_many(bins)"
   ]
  },
  {
   "cell_type": "markdown",
   "metadata": {},
   "source": [
    "# Is batch imputation faster?"
   ]
  },
  {
   "cell_type": "code",
   "execution_count": 20,
   "metadata": {},
   "outputs": [],
   "source": [
    "test_bins_100 = bins[:4] * 25\n",
    "test_bins_1000 = bins[:4] * 250"
   ]
  },
  {
   "cell_type": "code",
   "execution_count": 151,
   "metadata": {},
   "outputs": [
    {
     "data": {
      "text/plain": [
       "100"
      ]
     },
     "execution_count": 151,
     "metadata": {},
     "output_type": "execute_result"
    }
   ],
   "source": [
    "len(test_bins_100)"
   ]
  },
  {
   "cell_type": "code",
   "execution_count": 21,
   "metadata": {},
   "outputs": [
    {
     "name": "stderr",
     "output_type": "stream",
     "text": [
      "100%|██████████| 20/20 [01:07<00:00,  3.68s/it]\n"
     ]
    }
   ],
   "source": [
    "\n",
    "individual_data = []\n",
    "\n",
    "for i in tqdm(range(20)):\n",
    "    start = time.time()\n",
    "\n",
    "    for bin_ in test_bins_1000:\n",
    "        model.impute(bin_)\n",
    "        \n",
    "    end = time.time()\n",
    "    duration = end-start\n",
    "    individual_data.append(duration)\n",
    "\n"
   ]
  },
  {
   "cell_type": "code",
   "execution_count": 25,
   "metadata": {},
   "outputs": [
    {
     "data": {
      "text/plain": [
       "[0.2352898120880127,\n",
       " 0.23407483100891113,\n",
       " 0.3031899929046631,\n",
       " 0.20894694328308105,\n",
       " 0.29868483543395996,\n",
       " 0.2079470157623291,\n",
       " 0.21572375297546387,\n",
       " 0.21465396881103516,\n",
       " 0.2792849540710449,\n",
       " 0.2733328342437744,\n",
       " 0.2131509780883789,\n",
       " 0.2651641368865967,\n",
       " 0.22431397438049316,\n",
       " 0.2121901512145996,\n",
       " 0.20441913604736328,\n",
       " 0.20802927017211914,\n",
       " 0.21444392204284668,\n",
       " 0.21159696578979492,\n",
       " 0.20559382438659668,\n",
       " 0.33440327644348145]"
      ]
     },
     "execution_count": 25,
     "metadata": {},
     "output_type": "execute_result"
    }
   ],
   "source": [
    "batch_data"
   ]
  },
  {
   "cell_type": "code",
   "execution_count": 22,
   "metadata": {},
   "outputs": [
    {
     "name": "stderr",
     "output_type": "stream",
     "text": [
      "100%|██████████| 20/20 [00:04<00:00,  4.00it/s]\n"
     ]
    }
   ],
   "source": [
    "\n",
    "batch_data = []\n",
    "for i in tqdm(range(20)):\n",
    "    start = time.time()\n",
    "\n",
    "    model.impute_many(test_bins_1000)\n",
    "        \n",
    "    end = time.time()\n",
    "    end = time.time()\n",
    "    duration = end-start\n",
    "    batch_data.append(duration)\n"
   ]
  },
  {
   "cell_type": "code",
   "execution_count": 26,
   "metadata": {},
   "outputs": [
    {
     "data": {
      "text/plain": [
       "Text(0.5, 1.0, 'Imputation Speed Comparison on 1000 bins (20 trials)')"
      ]
     },
     "execution_count": 26,
     "metadata": {},
     "output_type": "execute_result"
    },
    {
     "data": {
      "image/png": "[encoded data removed]",
      "text/plain": [
       "<Figure size 432x288 with 1 Axes>"
      ]
     },
     "metadata": {
      "needs_background": "light"
     },
     "output_type": "display_data"
    }
   ],
   "source": [
    "plt.boxplot([individual_data,batch_data]);\n",
    "plt.xticks([1,2],[\"Individual\",\"Batch\"])\n",
    "#plt.ylim([0,2.5])\n",
    "plt.ylabel(\"Seconds\")\n",
    "plt.title(\"Imputation Speed Comparison on 1000 bins (20 trials)\")\n",
    "#plt.savefig(\"batch_speed.png\",dpi=500)"
   ]
  },
  {
   "cell_type": "code",
   "execution_count": 27,
   "metadata": {},
   "outputs": [
    {
     "data": {
      "text/plain": [
       "3.36770076751709"
      ]
     },
     "execution_count": 27,
     "metadata": {},
     "output_type": "execute_result"
    }
   ],
   "source": [
    "np.mean(individual_data)"
   ]
  },
  {
   "cell_type": "code",
   "execution_count": 28,
   "metadata": {},
   "outputs": [
    {
     "data": {
      "text/plain": [
       "0.2382217288017273"
      ]
     },
     "execution_count": 28,
     "metadata": {},
     "output_type": "execute_result"
    }
   ],
   "source": [
    "np.mean(batch_data)"
   ]
  },
  {
   "cell_type": "code",
   "execution_count": 29,
   "metadata": {},
   "outputs": [
    {
     "data": {
      "text/plain": [
       "14.136832876064123"
      ]
     },
     "execution_count": 29,
     "metadata": {},
     "output_type": "execute_result"
    }
   ],
   "source": [
    "np.mean(individual_data)/np.mean(batch_data)"
   ]
  },
  {
   "cell_type": "code",
   "execution_count": null,
   "metadata": {
    "collapsed": true
   },
   "outputs": [],
   "source": []
  }
 ],
 "metadata": {
  "kernelspec": {
   "display_name": "Python 3",
   "language": "python",
   "name": "python3"
  },
  "language_info": {
   "codemirror_mode": {
    "name": "ipython",
    "version": 3
   },
   "file_extension": ".py",
   "mimetype": "text/x-python",
   "name": "python",
   "nbconvert_exporter": "python",
   "pygments_lexer": "ipython3",
   "version": "3.7.1"
  }
 },
 "nbformat": 4,
 "nbformat_minor": 2
}
