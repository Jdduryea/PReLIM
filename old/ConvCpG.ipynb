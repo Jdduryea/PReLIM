{
 "cells": [
  {
   "cell_type": "markdown",
   "metadata": {},
   "source": [
    "# Experiments with ConvNet Module for CpGNet"
   ]
  },
  {
   "cell_type": "code",
   "execution_count": 2,
   "metadata": {},
   "outputs": [
    {
     "ename": "ValueError",
     "evalue": "Attempted relative import in non-package",
     "output_type": "error",
     "traceback": [
      "\u001b[0;31m---------------------------------------------------------------------------\u001b[0m",
      "\u001b[0;31mValueError\u001b[0m                                Traceback (most recent call last)",
      "\u001b[0;32m<ipython-input-2-b55db0b44d62>\u001b[0m in \u001b[0;36m<module>\u001b[0;34m()\u001b[0m\n\u001b[1;32m      6\u001b[0m \u001b[0;32mfrom\u001b[0m \u001b[0mkeras\u001b[0m\u001b[0;34m.\u001b[0m\u001b[0mmodels\u001b[0m \u001b[0;32mimport\u001b[0m \u001b[0mModel\u001b[0m\u001b[0;34m\u001b[0m\u001b[0m\n\u001b[1;32m      7\u001b[0m \u001b[0;34m\u001b[0m\u001b[0m\n\u001b[0;32m----> 8\u001b[0;31m \u001b[0;32mfrom\u001b[0m \u001b[0mCpG_Net\u001b[0m \u001b[0;32mimport\u001b[0m \u001b[0mCpGNet\u001b[0m\u001b[0;34m\u001b[0m\u001b[0m\n\u001b[0m\u001b[1;32m      9\u001b[0m \u001b[0;32mfrom\u001b[0m \u001b[0mCpG_Bin\u001b[0m \u001b[0;32mimport\u001b[0m \u001b[0mBin\u001b[0m\u001b[0;34m\u001b[0m\u001b[0m\n\u001b[1;32m     10\u001b[0m \u001b[0;32mimport\u001b[0m \u001b[0mnumpy\u001b[0m \u001b[0;32mas\u001b[0m \u001b[0mnp\u001b[0m\u001b[0;34m\u001b[0m\u001b[0m\n",
      "\u001b[0;32m/Users/jackduryea/Desktop/_/Research/CpGNet/CpG_Net.py\u001b[0m in \u001b[0;36m<module>\u001b[0;34m()\u001b[0m\n\u001b[1;32m     51\u001b[0m \u001b[0;34m\u001b[0m\u001b[0m\n\u001b[1;32m     52\u001b[0m \u001b[0;31m# bin data type\u001b[0m\u001b[0;34m\u001b[0m\u001b[0;34m\u001b[0m\u001b[0m\n\u001b[0;32m---> 53\u001b[0;31m \u001b[0;32mfrom\u001b[0m \u001b[0;34m.\u001b[0m\u001b[0mCpG_Bin\u001b[0m \u001b[0;32mimport\u001b[0m \u001b[0mBin\u001b[0m\u001b[0;34m\u001b[0m\u001b[0m\n\u001b[0m\u001b[1;32m     54\u001b[0m \u001b[0;34m\u001b[0m\u001b[0m\n\u001b[1;32m     55\u001b[0m \u001b[0;31m# warnings suck, turn thme off\u001b[0m\u001b[0;34m\u001b[0m\u001b[0;34m\u001b[0m\u001b[0m\n",
      "\u001b[0;31mValueError\u001b[0m: Attempted relative import in non-package"
     ]
    }
   ],
   "source": [
    "import keras\n",
    "from keras.models import Sequential\n",
    "from keras.layers import Dense, Activation, Dropout, Conv2D\n",
    "from keras.layers import Embedding, GlobalAveragePooling1D, MaxPooling1D, MaxPooling2D,Flatten,Input,LeakyReLU\n",
    "from keras.callbacks import EarlyStopping, ModelCheckpoint\n",
    "from keras.models import Model\n",
    "\n",
    "from CpG_Net import CpGNet\n",
    "from CpG_Bin import Bin\n",
    "import numpy as np\n",
    "import cPickle as pickle\n",
    "import matplotlib.pyplot as plt\n",
    "import numpy as np\n",
    "import matplotlib.pyplot as plt\n",
    "\n",
    "from tqdm import tqdm\n",
    "from sklearn.model_selection import train_test_split\n",
    "from sklearn import preprocessing\n",
    "from sklearn.linear_model import LogisticRegression\n",
    "from sklearn.ensemble import RandomForestClassifier\n",
    "from sklearn.ensemble import AdaBoostClassifier\n",
    "from sklearn.metrics import accuracy_score\n",
    "from random import shuffle\n",
    "from sklearn.metrics import roc_curve, auc\n",
    "\n",
    "import random\n",
    "from sklearn.metrics import roc_curve, auc\n",
    "%load_ext autoreload\n",
    "%autoreload 2\n",
    "%matplotlib inline"
   ]
  },
  {
   "cell_type": "code",
   "execution_count": null,
   "metadata": {
    "collapsed": true
   },
   "outputs": [],
   "source": [
    "CPG_DENSITY=6"
   ]
  },
  {
   "cell_type": "code",
   "execution_count": null,
   "metadata": {
    "collapsed": true
   },
   "outputs": [],
   "source": [
    "data = pickle.load(open(\"HAMbins.p\",\"rb\")) "
   ]
  },
  {
   "cell_type": "code",
   "execution_count": null,
   "metadata": {
    "collapsed": true
   },
   "outputs": [],
   "source": [
    "net = CpGNet(CPG_DENSITY)"
   ]
  },
  {
   "cell_type": "markdown",
   "metadata": {},
   "source": [
    "Create complete bins"
   ]
  },
  {
   "cell_type": "code",
   "execution_count": null,
   "metadata": {
    "collapsed": true
   },
   "outputs": [],
   "source": [
    "# Preliminary filter, useful to speed up computation\n",
    "min_read_depth = 20\n",
    "read_filtered_data = [bin_ for bin_ in data if bin_.matrix.shape[0] >= min_read_depth]\n",
    "cpg_bins = [bin_ for bin_ in read_filtered_data if bin_.matrix.shape[1]==CPG_DENSITY]\n",
    "shuffle(cpg_bins)\n",
    "# Filters out missing data\n",
    "cpg_bins_complete = net.filter_bad_reads(cpg_bins)\n",
    "# secondary filter\n",
    "cpg_bins_complete_depth = [bin_ for bin_ in cpg_bins_complete if bin_.matrix.shape[0] >= min_read_depth]\n",
    "\n"
   ]
  },
  {
   "cell_type": "markdown",
   "metadata": {},
   "source": [
    "Create masks"
   ]
  },
  {
   "cell_type": "code",
   "execution_count": null,
   "metadata": {
    "collapsed": true
   },
   "outputs": [],
   "source": [
    "masks = net.extract_masks(cpg_bins)"
   ]
  },
  {
   "cell_type": "code",
   "execution_count": null,
   "metadata": {
    "collapsed": true
   },
   "outputs": [],
   "source": [
    "# apply masks\n",
    "ready_bins = []\n",
    "for Bin in cpg_bins_complete_depth:\n",
    "    truth_matrix = Bin.matrix\n",
    "    m_shape = truth_matrix.shape\n",
    "    if m_shape in masks:\n",
    "        if len(masks[m_shape]) > 0:\n",
    "            mask = random.choice(masks[m_shape])\n",
    "            observed = np.minimum(truth_matrix, mask)\n",
    "            Bin.tag2 = {\"truth\":truth_matrix, \"observed\":observed, \"mask\":mask}\n",
    "            ready_bins.append(Bin)"
   ]
  },
  {
   "cell_type": "code",
   "execution_count": null,
   "metadata": {
    "collapsed": true
   },
   "outputs": [],
   "source": [
    "len(masks)"
   ]
  },
  {
   "cell_type": "code",
   "execution_count": null,
   "metadata": {
    "collapsed": true
   },
   "outputs": [],
   "source": [
    "X,Y,Z = net.advanced_feature_collect(ready_bins)"
   ]
  },
  {
   "cell_type": "markdown",
   "metadata": {},
   "source": [
    "Preprocessing"
   ]
  },
  {
   "cell_type": "code",
   "execution_count": null,
   "metadata": {
    "collapsed": true
   },
   "outputs": [],
   "source": [
    "print X.shape\n",
    "print Y.shape\n",
    "print Z.shape"
   ]
  },
  {
   "cell_type": "code",
   "execution_count": null,
   "metadata": {
    "collapsed": true
   },
   "outputs": [],
   "source": [
    "X[0]"
   ]
  },
  {
   "cell_type": "code",
   "execution_count": null,
   "metadata": {
    "collapsed": true
   },
   "outputs": [],
   "source": [
    "max_depth = max([len(m) for m in X])\n",
    "\n",
    "X_pad = np.zeros((len(X),max_depth, CPG_DENSITY))\n",
    "temp = -5\n",
    "for i,x in tqdm(enumerate(X)):\n",
    "    X_pad[i] = np.pad(x, ((0, max_depth-len(x)),(0,0)), \"constant\", constant_values=(temp))\n",
    "# convert 1 to 3, 0 to -1, missing to 1, since we are 0 padding\n",
    "\n",
    "X_pad[X_pad==1]=3\n",
    "X_pad[X_pad==-1]=1\n",
    "X_pad[X_pad==0]=-1\n",
    "\n",
    "X_pad[X_pad==temp]=0"
   ]
  },
  {
   "cell_type": "code",
   "execution_count": null,
   "metadata": {
    "collapsed": true
   },
   "outputs": [],
   "source": [
    "X[100]"
   ]
  },
  {
   "cell_type": "code",
   "execution_count": null,
   "metadata": {
    "collapsed": true
   },
   "outputs": [],
   "source": [
    "X_pad[100]"
   ]
  },
  {
   "cell_type": "code",
   "execution_count": null,
   "metadata": {
    "collapsed": true
   },
   "outputs": [],
   "source": [
    "X_exp = np.expand_dims(X_pad, axis=2) # add extra dimesion to make keras happy\n",
    "X_exp=X_exp.reshape(len(X_exp),max_depth, CPG_DENSITY, 1)\n",
    "Y_norm = preprocessing.scale(Y)\n",
    "Z_exp = np.expand_dims(Z,-1)\n",
    "#Y_exp = np.expand_dims(Y, axis=2) # add extra dimesion to make keras happy"
   ]
  },
  {
   "cell_type": "code",
   "execution_count": null,
   "metadata": {
    "collapsed": true
   },
   "outputs": [],
   "source": [
    "print X_exp.shape\n",
    "print Y_norm.shape\n",
    "print Z.shape"
   ]
  },
  {
   "cell_type": "code",
   "execution_count": null,
   "metadata": {
    "collapsed": true
   },
   "outputs": [],
   "source": [
    "Xf = X_exp.flatten()\n",
    "Xfr = Xf.reshape(49229,498)"
   ]
  },
  {
   "cell_type": "code",
   "execution_count": null,
   "metadata": {
    "collapsed": true
   },
   "outputs": [],
   "source": [
    "len(np.unique(X_exp,axis=0))"
   ]
  },
  {
   "cell_type": "code",
   "execution_count": null,
   "metadata": {
    "collapsed": true
   },
   "outputs": [],
   "source": [
    "Xfr"
   ]
  },
  {
   "cell_type": "code",
   "execution_count": null,
   "metadata": {
    "collapsed": true
   },
   "outputs": [],
   "source": [
    "np.save(\"npX\",X_exp)"
   ]
  },
  {
   "cell_type": "code",
   "execution_count": null,
   "metadata": {
    "collapsed": true
   },
   "outputs": [],
   "source": [
    "np.save(\"npY\",Y_norm)"
   ]
  },
  {
   "cell_type": "code",
   "execution_count": null,
   "metadata": {
    "collapsed": true
   },
   "outputs": [],
   "source": [
    "np.save(\"npZ\",Z)"
   ]
  },
  {
   "cell_type": "code",
   "execution_count": null,
   "metadata": {
    "collapsed": true
   },
   "outputs": [],
   "source": [
    "# Conv Module\n",
    "convInput = Input(shape=(max_depth,CPG_DENSITY,1), dtype='float', name='input2')\n",
    "\n",
    "filter_size = CPG_DENSITY\n",
    "stride = filter_size\n",
    "convLayer = Conv2D(32, kernel_size=(4,4), strides=2, padding=\"same\",activation=\"linear\")(convInput)\n",
    "convLayer = LeakyReLU(alpha=.001)(convLayer)\n",
    "convLayer = Conv2D(16, kernel_size=(2,2), strides=2, padding=\"same\",activation=\"linear\")(convLayer)\n",
    "convLayer = LeakyReLU(alpha=.001)(convLayer)\n",
    "convLayer = Conv2D(8, kernel_size=(2,2), strides=2, padding=\"same\",activation=\"linear\")(convLayer)\n",
    "convLayer = LeakyReLU(alpha=.001)(convLayer)\n",
    "\n",
    "#convLayer = MaxPooling2D()(convLayer)\n",
    "\n",
    "convLayer = Flatten()(convLayer)\n",
    "\n",
    "#convLayer = Flatten()(convInput)\n",
    "#convLayer = Dense(1000, activation=\"relu\")(convLayer)\n",
    "\n",
    "# Numerical Module\n",
    "numericalInput = Input(shape=(Y[0].size,), dtype='float', name='input1')\n",
    "layer1 = Dense(1000, activation=\"linear\")(numericalInput)\n",
    "layer1 = LeakyReLU(alpha=.01)(layer1)\n",
    "combined = Dropout(0.9)(combined)\n",
    "layer1 = Dense(800, activation=\"linear\")(layer1)\n",
    "layer1 = LeakyReLU(alpha=.01)(layer1)\n",
    "combined = Dropout(0.9)(combined)\n",
    "\n",
    "layer1 = Dense(600, activation=\"linear\")(layer1)\n",
    "layer1 = LeakyReLU(alpha=.01)(layer1)\n",
    "combined = Dropout(0.9)(combined)\n",
    "layer1 = Dense(200, activation=\"linear\")(layer1)\n",
    "layer1 = LeakyReLU(alpha=.01)(layer1)\n",
    "\n",
    "\n",
    "layer1 = Dense(100, activation=\"linear\")(layer1)\n",
    "layer1 = LeakyReLU(alpha=.01)(layer1)\n",
    "\n",
    "layer1 = Dense(10, activation=\"linear\")(layer1)\n",
    "layer1 = LeakyReLU(alpha=.01)(layer1)\n",
    "\n",
    "layer1 = Dense(3, activation=\"linear\")(layer1)\n",
    "layer1 = LeakyReLU(alpha=.01)(layer1)\n",
    "\n",
    "layer1 = Dense(10, activation=\"linear\")(layer1)\n",
    "layer1 = LeakyReLU(alpha=.01)(layer1)\n",
    "\n",
    "# Combined Module\n",
    "\n",
    "combined = keras.layers.concatenate([convLayer, numericalInput])\n",
    "combined = Dense(1000, activation=\"linear\")(combined)\n",
    "combined = LeakyReLU(alpha=.01)(combined)\n",
    "combined = Dropout(0.9)(combined)\n",
    "\n",
    "combined = Dense(800, activation=\"linear\")(combined)\n",
    "combined = LeakyReLU(alpha=.01)(combined)\n",
    "combined = Dropout(0.9)(combined)\n",
    "combined = Dense(400, activation=\"linear\")(combined)\n",
    "\n",
    "combined = LeakyReLU(alpha=.01)(combined)\n",
    "combined = Dropout(0.9)(combined)\n",
    "combined = Dense(1, activation=\"sigmoid\")(combined)\n"
   ]
  },
  {
   "cell_type": "code",
   "execution_count": null,
   "metadata": {
    "collapsed": true
   },
   "outputs": [],
   "source": [
    "model = Model(inputs=[convInput, numericalInput], outputs=[combined])\n",
    "adam = keras.optimizers.Adam(lr=0.0001)\n",
    "\n",
    "model.compile(optimizer=\"adam\",loss = \"binary_crossentropy\",metrics=[\"acc\"])\n"
   ]
  },
  {
   "cell_type": "code",
   "execution_count": null,
   "metadata": {
    "collapsed": true
   },
   "outputs": [],
   "source": [
    "u, indices = np.unique(Xfr,axis=0, return_index=True)\n",
    "X_u = X_exp[indices]\n",
    "Y_u = Y_norm[indices]\n",
    "Z_u = Z[indices]\n",
    "history = model.fit([X_exp, Y_norm], [Z], epochs=100, validation_split=0.2, batch_size=16)\n",
    "#history = model.fit([X_u, Y_u], [Z_u], epochs=100, validation_split=0.2, batch_size=16)"
   ]
  },
  {
   "cell_type": "code",
   "execution_count": null,
   "metadata": {
    "collapsed": true
   },
   "outputs": [],
   "source": [
    "indices"
   ]
  },
  {
   "cell_type": "code",
   "execution_count": null,
   "metadata": {
    "collapsed": true
   },
   "outputs": [],
   "source": [
    "Y[0]"
   ]
  },
  {
   "cell_type": "code",
   "execution_count": null,
   "metadata": {
    "collapsed": true
   },
   "outputs": [],
   "source": [
    "# model = Sequential()\n",
    "# model.add(Conv1D(16, 3, strides=3, activation='relu', input_shape=(seq_length,1)))\n",
    "# model.add(Conv1D(5, 1, strides=1, activation='relu'))\n",
    "\n",
    "# model.add(GlobalAveragePooling1D())\n",
    "# model.add(Flatten())\n",
    "# model.add(Dense(2, activation='sigmoid'))\n",
    "\n",
    "# model.compile(loss='mse',\n",
    "#               optimizer='adam',\n",
    "#               metrics=['mse'])\n",
    "\n",
    "# history = model.fit(X_exp, y, batch_size=1, epochs=1000, validation_split=0.0)"
   ]
  },
  {
   "cell_type": "code",
   "execution_count": null,
   "metadata": {
    "collapsed": true
   },
   "outputs": [],
   "source": [
    "model.predict(X_exp)"
   ]
  },
  {
   "cell_type": "code",
   "execution_count": null,
   "metadata": {
    "collapsed": true
   },
   "outputs": [],
   "source": [
    "y.shape"
   ]
  },
  {
   "cell_type": "code",
   "execution_count": null,
   "metadata": {
    "collapsed": true
   },
   "outputs": [],
   "source": [
    "y_exp = y_exp.reshape(2,1,1)"
   ]
  },
  {
   "cell_type": "code",
   "execution_count": null,
   "metadata": {
    "collapsed": true
   },
   "outputs": [],
   "source": [
    "y_exp"
   ]
  },
  {
   "cell_type": "markdown",
   "metadata": {},
   "source": [
    "# Multiple input"
   ]
  },
  {
   "cell_type": "markdown",
   "metadata": {},
   "source": [
    "Let's see if we can get a neural net to add two numbers together, x+y=z\n",
    "We did it!"
   ]
  },
  {
   "cell_type": "code",
   "execution_count": null,
   "metadata": {
    "collapsed": true
   },
   "outputs": [],
   "source": [
    "x = np.array([[[1,0,0],[0,1,1],[0,1,1]],[[0,0,0],[0,1,1],[0,1,1]]])\n",
    "x_exp = np.expand_dims(x, axis=2)\n",
    "y = np.array([1,0])\n"
   ]
  },
  {
   "cell_type": "code",
   "execution_count": null,
   "metadata": {
    "collapsed": true
   },
   "outputs": [],
   "source": [
    "model = Sequential()\n",
    "model.add(Conv2D(3, kernel_size=(2, 2), strides=(1, 1),\n",
    "                 activation='relu',\n",
    "                 padding =\"same\",\n",
    "                 input_shape=x_exp[0].shape))\n",
    "model.add(Flatten())\n",
    "model.add(Dense(10, activation='relu'))\n",
    "model.add(Dense(1, activation='sigmoid'))"
   ]
  },
  {
   "cell_type": "code",
   "execution_count": null,
   "metadata": {
    "collapsed": true
   },
   "outputs": [],
   "source": [
    "model.compile(loss='binary_crossentropy',metrics=[\"acc\"], optimizer=\"adam\")\n",
    "model.fit(x_exp, y, batch_size=32, epochs=1000)"
   ]
  },
  {
   "cell_type": "code",
   "execution_count": null,
   "metadata": {
    "collapsed": true
   },
   "outputs": [],
   "source": [
    "model.predict(x_exp)"
   ]
  },
  {
   "cell_type": "code",
   "execution_count": null,
   "metadata": {
    "collapsed": true
   },
   "outputs": [],
   "source": [
    "test = np.array([[1,1,2],[2,1,1]])\n",
    "max_len = 5\n",
    "test_pad = np.pad(test, ((0,max_len-len(test)),(0,0)), \"constant\", constant_values=(0))"
   ]
  },
  {
   "cell_type": "code",
   "execution_count": null,
   "metadata": {
    "collapsed": true
   },
   "outputs": [],
   "source": [
    "test_pad"
   ]
  },
  {
   "cell_type": "code",
   "execution_count": null,
   "metadata": {
    "collapsed": true
   },
   "outputs": [],
   "source": [
    "rf = RandomForestClassifier(n_estimators=100)"
   ]
  },
  {
   "cell_type": "code",
   "execution_count": null,
   "metadata": {
    "collapsed": true
   },
   "outputs": [],
   "source": [
    "rf.fit(Y_norm[:10000], Z[:10000])"
   ]
  },
  {
   "cell_type": "code",
   "execution_count": null,
   "metadata": {
    "collapsed": true
   },
   "outputs": [],
   "source": [
    "rf.score(Y_norm[:1000], Z[:1000])"
   ]
  },
  {
   "cell_type": "code",
   "execution_count": null,
   "metadata": {
    "collapsed": true
   },
   "outputs": [],
   "source": [
    "rf.score(Y_norm[10000:11000], Z[10000:11000])"
   ]
  },
  {
   "cell_type": "code",
   "execution_count": null,
   "metadata": {
    "collapsed": true
   },
   "outputs": [],
   "source": []
  }
 ],
 "metadata": {
  "kernelspec": {
   "display_name": "Python 2",
   "language": "python",
   "name": "python2"
  },
  "language_info": {
   "codemirror_mode": {
    "name": "ipython",
    "version": 2
   },
   "file_extension": ".py",
   "mimetype": "text/x-python",
   "name": "python",
   "nbconvert_exporter": "python",
   "pygments_lexer": "ipython2",
   "version": "2.7.13"
  }
 },
 "nbformat": 4,
 "nbformat_minor": 2
}
